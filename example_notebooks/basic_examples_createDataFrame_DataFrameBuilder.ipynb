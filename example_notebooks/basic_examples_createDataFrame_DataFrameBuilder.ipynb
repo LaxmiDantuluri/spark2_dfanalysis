{
 "cells": [
  {
   "cell_type": "markdown",
   "metadata": {},
   "source": [
    "# DataFrame Builder:"
   ]
  },
  {
   "cell_type": "code",
   "execution_count": 29,
   "metadata": {},
   "outputs": [
    {
     "name": "stdout",
     "output_type": "stream",
     "text": [
      "The autoreload extension is already loaded. To reload it, use:\n",
      "  %reload_ext autoreload\n"
     ]
    }
   ],
   "source": [
    "%load_ext autoreload\n",
    "%autoreload 2\n",
    "\n",
    "# The autoreload extension is already loaded. To reload it, use:\n",
    "#  %reload_ext autoreload"
   ]
  },
  {
   "cell_type": "code",
   "execution_count": 2,
   "metadata": {
    "collapsed": true
   },
   "outputs": [],
   "source": [
    "import os\n",
    "import sys\n",
    "import numpy as np\n",
    "import pandas as pd\n",
    "\n",
    "pd.options.display.float_format = '{:20,.2f}'.format"
   ]
  },
  {
   "cell_type": "code",
   "execution_count": 3,
   "metadata": {},
   "outputs": [
    {
     "name": "stdout",
     "output_type": "stream",
     "text": [
      "3.6.1 |Anaconda 4.4.0 (64-bit)| (default, May 11 2017, 13:25:24) [MSC v.1900 64 bit (AMD64)]\n"
     ]
    }
   ],
   "source": [
    "print(sys.version)"
   ]
  },
  {
   "cell_type": "code",
   "execution_count": 4,
   "metadata": {},
   "outputs": [
    {
     "name": "stdout",
     "output_type": "stream",
     "text": [
      "C:\\ProgramData\\Anaconda3\n"
     ]
    }
   ],
   "source": [
    "print(os.path.dirname(sys.executable))"
   ]
  },
  {
   "cell_type": "code",
   "execution_count": 5,
   "metadata": {
    "collapsed": true
   },
   "outputs": [],
   "source": [
    "# mylib:\n",
    "my_library = os.path.expanduser('~/.myconfigs')\n",
    "my_spark = os.path.expanduser('~/spark2_dfanalysis')\n",
    "sys.path.append(my_library)\n",
    "sys.path.append(my_spark)"
   ]
  },
  {
   "cell_type": "code",
   "execution_count": 6,
   "metadata": {},
   "outputs": [
    {
     "name": "stdout",
     "output_type": "stream",
     "text": [
      "C:\\Users\\d810216/.myconfigs\n",
      "C:\\Users\\d810216/spark2_dfanalysis\n",
      "['.git', '.gitignore', 'example_notebooks', 'LICENSE', 'mydf', 'README.md', 'shared', '__init__.py']\n"
     ]
    }
   ],
   "source": [
    "# print(sys.path)\n",
    "print(my_library)\n",
    "print(my_spark)\n",
    "print(os.listdir(my_spark))"
   ]
  },
  {
   "cell_type": "code",
   "execution_count": 7,
   "metadata": {
    "collapsed": true
   },
   "outputs": [],
   "source": [
    "import pyspark as spark\n",
    "from pyspark.sql import SparkSession\n",
    "from pyspark.sql.types import *\n",
    "from pyspark.sql.functions import *\n",
    "\n",
    "spark = SparkSession.builder.appName('myappname').getOrCreate()"
   ]
  },
  {
   "cell_type": "code",
   "execution_count": 8,
   "metadata": {
    "collapsed": true
   },
   "outputs": [],
   "source": [
    "# print(dir(pyspark))\n",
    "# print(dir(pyspark.sql))\n",
    "# print(dir(pyspark.rdd))"
   ]
  },
  {
   "cell_type": "code",
   "execution_count": 9,
   "metadata": {
    "collapsed": true
   },
   "outputs": [],
   "source": [
    "from shared.app_context import *\n",
    "\n",
    "ctx = ApplicationContext(\"Dev-Job\")"
   ]
  },
  {
   "cell_type": "code",
   "execution_count": 10,
   "metadata": {},
   "outputs": [
    {
     "name": "stdout",
     "output_type": "stream",
     "text": [
      "<pyspark.sql.session.SparkSession object at 0x000001EAF5DFD780>\n",
      "<pyspark.sql.session.SparkSession object at 0x000001EAF5DFD780>\n"
     ]
    }
   ],
   "source": [
    "print(spark)\n",
    "print(ctx.spark)\n",
    "# print(dir(ctx.spark))"
   ]
  },
  {
   "cell_type": "code",
   "execution_count": 30,
   "metadata": {
    "collapsed": true
   },
   "outputs": [],
   "source": [
    "# print(sys.path)\n",
    "from mydf.DataFrameBuild import *"
   ]
  },
  {
   "cell_type": "markdown",
   "metadata": {},
   "source": [
    "## ^final import"
   ]
  },
  {
   "cell_type": "markdown",
   "metadata": {},
   "source": [
    "## DataFrameBuild\n",
    "### x = myDF(ctx.spark)"
   ]
  },
  {
   "cell_type": "code",
   "execution_count": 31,
   "metadata": {},
   "outputs": [
    {
     "name": "stdout",
     "output_type": "stream",
     "text": [
      "<class 'mydf.DataFrameBuild.GetDF'>\n",
      "['__class__', '__delattr__', '__dict__', '__dir__', '__doc__', '__eq__', '__format__', '__ge__', '__getattribute__', '__gt__', '__hash__', '__init__', '__init_subclass__', '__le__', '__lt__', '__module__', '__ne__', '__new__', '__reduce__', '__reduce_ex__', '__repr__', '__setattr__', '__sizeof__', '__str__', '__subclasshook__', '__weakref__', 'decision_array_type', 'df_multidimensional', 'df_randomly_increasing_array', 'df_simple_array', 'df_string_array', 'get_StructField', 'get_array', 'get_double_array', 'get_integer_array', 'get_string_array', 'profile_partitions', 'profile_size', 'spark']\n",
      "<pyspark.sql.session.SparkSession object at 0x000001EAF5DFD780>\n"
     ]
    },
    {
     "data": {
      "text/plain": [
       "DataFrame[Index: bigint]"
      ]
     },
     "execution_count": 31,
     "metadata": {},
     "output_type": "execute_result"
    }
   ],
   "source": [
    "x = GetDF(ctx.spark)\n",
    "print(type(x))\n",
    "print(dir(x))\n",
    "print(x.spark)\n",
    "x.df_simple_array()\n",
    "#x.df_array(ctx.spark,10)"
   ]
  },
  {
   "cell_type": "markdown",
   "metadata": {},
   "source": [
    "### Create Arrays"
   ]
  },
  {
   "cell_type": "code",
   "execution_count": 67,
   "metadata": {},
   "outputs": [
    {
     "name": "stdout",
     "output_type": "stream",
     "text": [
      "12 ['xejjmsol', 'zcaukdpi', 'wtrmyozp', 'yjwtbzwv', 'pmxiahcr', 'nenneick', 'ojaldduq', 'riepciie', 'dizkfwnw', 'nvfhezvw', 'aidcrygg', 'lpenaohj']\n",
      "12 [1 3 3 2 2 4 0 0 3 3 1 2]\n",
      "12 [10.0910574  10.07729548 10.04598313 10.05039545 10.08834741 10.04643331\n",
      " 10.03029783 10.00434859 10.03041613 10.0997134  10.02172155 10.04126944]\n"
     ]
    }
   ],
   "source": [
    "mystr = x.get_array(\"string\",num=12,width=8) \n",
    "myint = x.get_array(\"integer\",num=12,nrange=(0,4))    # inclusive on range\n",
    "mydoub = x.get_array(\"double\",num=12,nrange=(10,10.1))\n",
    "\n",
    "print(len(mystr),mystr)\n",
    "print(len(myint),myint)\n",
    "print(len(mydoub),mydoub)"
   ]
  },
  {
   "cell_type": "code",
   "execution_count": 68,
   "metadata": {},
   "outputs": [
    {
     "name": "stdout",
     "output_type": "stream",
     "text": [
      "+-----+\n",
      "|Index|\n",
      "+-----+\n",
      "|  5.0|\n",
      "|  6.0|\n",
      "|  7.0|\n",
      "|  8.0|\n",
      "+-----+\n",
      "\n"
     ]
    }
   ],
   "source": [
    "x.df_simple_array(5,8)\n",
    "x.count\n",
    "x.df.show()"
   ]
  },
  {
   "cell_type": "code",
   "execution_count": 69,
   "metadata": {
    "scrolled": true
   },
   "outputs": [
    {
     "name": "stdout",
     "output_type": "stream",
     "text": [
      "+-----+\n",
      "|Index|\n",
      "+-----+\n",
      "|    0|\n",
      "|    1|\n",
      "|    2|\n",
      "|    3|\n",
      "|    4|\n",
      "|    5|\n",
      "|    6|\n",
      "|    7|\n",
      "|    8|\n",
      "|    9|\n",
      "|   10|\n",
      "|   11|\n",
      "|   12|\n",
      "|   13|\n",
      "|   14|\n",
      "|   15|\n",
      "|   16|\n",
      "|   17|\n",
      "|   18|\n",
      "|   19|\n",
      "+-----+\n",
      "only showing top 20 rows\n",
      "\n"
     ]
    }
   ],
   "source": [
    "x.df_simple_array(1000)\n",
    "x.df.show()"
   ]
  },
  {
   "cell_type": "code",
   "execution_count": 70,
   "metadata": {},
   "outputs": [
    {
     "data": {
      "text/plain": [
       "DataFrame[Index: double, Random Number: double]"
      ]
     },
     "execution_count": 70,
     "metadata": {},
     "output_type": "execute_result"
    }
   ],
   "source": [
    "x.df_randomly_increasing_array(3)"
   ]
  },
  {
   "cell_type": "code",
   "execution_count": 71,
   "metadata": {
    "scrolled": true
   },
   "outputs": [
    {
     "data": {
      "text/html": [
       "<div>\n",
       "<style scoped>\n",
       "    .dataframe tbody tr th:only-of-type {\n",
       "        vertical-align: middle;\n",
       "    }\n",
       "\n",
       "    .dataframe tbody tr th {\n",
       "        vertical-align: top;\n",
       "    }\n",
       "\n",
       "    .dataframe thead th {\n",
       "        text-align: right;\n",
       "    }\n",
       "</style>\n",
       "<table border=\"1\" class=\"dataframe\">\n",
       "  <thead>\n",
       "    <tr style=\"text-align: right;\">\n",
       "      <th></th>\n",
       "      <th>Index</th>\n",
       "      <th>Random Number</th>\n",
       "    </tr>\n",
       "  </thead>\n",
       "  <tbody>\n",
       "    <tr>\n",
       "      <th>0</th>\n",
       "      <td>0.00</td>\n",
       "      <td>0.00</td>\n",
       "    </tr>\n",
       "    <tr>\n",
       "      <th>1</th>\n",
       "      <td>1.00</td>\n",
       "      <td>1.00</td>\n",
       "    </tr>\n",
       "    <tr>\n",
       "      <th>2</th>\n",
       "      <td>2.00</td>\n",
       "      <td>2.00</td>\n",
       "    </tr>\n",
       "    <tr>\n",
       "      <th>3</th>\n",
       "      <td>3.00</td>\n",
       "      <td>1.00</td>\n",
       "    </tr>\n",
       "    <tr>\n",
       "      <th>4</th>\n",
       "      <td>4.00</td>\n",
       "      <td>1.00</td>\n",
       "    </tr>\n",
       "    <tr>\n",
       "      <th>5</th>\n",
       "      <td>5.00</td>\n",
       "      <td>1.00</td>\n",
       "    </tr>\n",
       "    <tr>\n",
       "      <th>6</th>\n",
       "      <td>6.00</td>\n",
       "      <td>0.00</td>\n",
       "    </tr>\n",
       "    <tr>\n",
       "      <th>7</th>\n",
       "      <td>7.00</td>\n",
       "      <td>7.00</td>\n",
       "    </tr>\n",
       "    <tr>\n",
       "      <th>8</th>\n",
       "      <td>8.00</td>\n",
       "      <td>4.00</td>\n",
       "    </tr>\n",
       "    <tr>\n",
       "      <th>9</th>\n",
       "      <td>9.00</td>\n",
       "      <td>0.00</td>\n",
       "    </tr>\n",
       "    <tr>\n",
       "      <th>10</th>\n",
       "      <td>10.00</td>\n",
       "      <td>7.00</td>\n",
       "    </tr>\n",
       "    <tr>\n",
       "      <th>11</th>\n",
       "      <td>11.00</td>\n",
       "      <td>4.00</td>\n",
       "    </tr>\n",
       "    <tr>\n",
       "      <th>12</th>\n",
       "      <td>12.00</td>\n",
       "      <td>8.00</td>\n",
       "    </tr>\n",
       "    <tr>\n",
       "      <th>13</th>\n",
       "      <td>13.00</td>\n",
       "      <td>11.00</td>\n",
       "    </tr>\n",
       "    <tr>\n",
       "      <th>14</th>\n",
       "      <td>14.00</td>\n",
       "      <td>5.00</td>\n",
       "    </tr>\n",
       "    <tr>\n",
       "      <th>15</th>\n",
       "      <td>15.00</td>\n",
       "      <td>15.00</td>\n",
       "    </tr>\n",
       "    <tr>\n",
       "      <th>16</th>\n",
       "      <td>16.00</td>\n",
       "      <td>11.00</td>\n",
       "    </tr>\n",
       "    <tr>\n",
       "      <th>17</th>\n",
       "      <td>17.00</td>\n",
       "      <td>13.00</td>\n",
       "    </tr>\n",
       "    <tr>\n",
       "      <th>18</th>\n",
       "      <td>18.00</td>\n",
       "      <td>5.00</td>\n",
       "    </tr>\n",
       "    <tr>\n",
       "      <th>19</th>\n",
       "      <td>19.00</td>\n",
       "      <td>0.00</td>\n",
       "    </tr>\n",
       "  </tbody>\n",
       "</table>\n",
       "</div>"
      ],
      "text/plain": [
       "                  Index        Random Number\n",
       "0                  0.00                 0.00\n",
       "1                  1.00                 1.00\n",
       "2                  2.00                 2.00\n",
       "3                  3.00                 1.00\n",
       "4                  4.00                 1.00\n",
       "5                  5.00                 1.00\n",
       "6                  6.00                 0.00\n",
       "7                  7.00                 7.00\n",
       "8                  8.00                 4.00\n",
       "9                  9.00                 0.00\n",
       "10                10.00                 7.00\n",
       "11                11.00                 4.00\n",
       "12                12.00                 8.00\n",
       "13                13.00                11.00\n",
       "14                14.00                 5.00\n",
       "15                15.00                15.00\n",
       "16                16.00                11.00\n",
       "17                17.00                13.00\n",
       "18                18.00                 5.00\n",
       "19                19.00                 0.00"
      ]
     },
     "execution_count": 71,
     "metadata": {},
     "output_type": "execute_result"
    }
   ],
   "source": [
    "for i in range(20):\n",
    "    x.df_randomly_increasing_array(50)\n",
    "    \n",
    "x.df.limit(20).toPandas()"
   ]
  },
  {
   "cell_type": "code",
   "execution_count": 72,
   "metadata": {
    "collapsed": true
   },
   "outputs": [],
   "source": [
    "fruit = [\"apple\",\"orange\",\"banana\",\"grape\",\"melon\",\"pineapple\",\"kiwi\",\"lemon\",\"lime\"]"
   ]
  },
  {
   "cell_type": "code",
   "execution_count": 73,
   "metadata": {
    "collapsed": true
   },
   "outputs": [],
   "source": [
    "df_fruit = x.spark.createDataFrame(fruit,StringType()).toDF(\"fruit\")"
   ]
  },
  {
   "cell_type": "code",
   "execution_count": 74,
   "metadata": {},
   "outputs": [
    {
     "name": "stdout",
     "output_type": "stream",
     "text": [
      "+---------+\n",
      "|    fruit|\n",
      "+---------+\n",
      "|    apple|\n",
      "|   orange|\n",
      "|   banana|\n",
      "|    grape|\n",
      "|    melon|\n",
      "|pineapple|\n",
      "|     kiwi|\n",
      "|    lemon|\n",
      "|     lime|\n",
      "+---------+\n",
      "\n"
     ]
    }
   ],
   "source": [
    "df_fruit.show()"
   ]
  },
  {
   "cell_type": "code",
   "execution_count": 140,
   "metadata": {
    "collapsed": true
   },
   "outputs": [],
   "source": [
    "def get_string_fields(lst):\n",
    "    n = len(lst)\n",
    "    fields = [StructField(x,StringType(),True) for x in lst]\n",
    "    return fields\n",
    "\n",
    "fields_fruit = get_string_fields(fruit)\n",
    "# df = x.spark.createDataFrame(fruits,fields_fruit)"
   ]
  },
  {
   "cell_type": "markdown",
   "metadata": {},
   "source": [
    "### Example 1."
   ]
  },
  {
   "cell_type": "code",
   "execution_count": 141,
   "metadata": {
    "scrolled": true
   },
   "outputs": [
    {
     "name": "stdout",
     "output_type": "stream",
     "text": [
      "+-----+\n",
      "|Index|\n",
      "+-----+\n",
      "|    0|\n",
      "|    1|\n",
      "|    2|\n",
      "|    3|\n",
      "|    4|\n",
      "|    5|\n",
      "|    6|\n",
      "|    7|\n",
      "|    8|\n",
      "+-----+\n",
      "\n",
      "+---------+\n",
      "|    fruit|\n",
      "+---------+\n",
      "|    apple|\n",
      "|   orange|\n",
      "|   banana|\n",
      "|    grape|\n",
      "|    melon|\n",
      "|pineapple|\n",
      "|     kiwi|\n",
      "|    lemon|\n",
      "|     lime|\n",
      "+---------+\n",
      "\n",
      "+-----+-------------+\n",
      "|Index|Random Number|\n",
      "+-----+-------------+\n",
      "|  0.0|          0.0|\n",
      "|  1.0|          1.0|\n",
      "|  2.0|          1.0|\n",
      "|  3.0|          2.0|\n",
      "|  4.0|          0.0|\n",
      "|  5.0|          4.0|\n",
      "|  6.0|          6.0|\n",
      "|  7.0|          7.0|\n",
      "|  8.0|          1.0|\n",
      "+-----+-------------+\n",
      "\n"
     ]
    }
   ],
   "source": [
    "X = myDF(ctx.spark)\n",
    "# print(fruit)\n",
    "# print(len(fruit))\n",
    "\n",
    "df_num_fruit = X.df_simple_array(len(fruit))\n",
    "df_random_num= X.df_randomly_increasing_array(len(fruit))\n",
    "df_fruit     = X.df_string_array(fruit,\"fruit\")\n",
    "\n",
    "df_num_fruit.show()\n",
    "df_fruit.show()\n",
    "df_random_num.show()"
   ]
  },
  {
   "cell_type": "markdown",
   "metadata": {},
   "source": [
    "#### concat ..."
   ]
  },
  {
   "cell_type": "code",
   "execution_count": 142,
   "metadata": {},
   "outputs": [
    {
     "name": "stdout",
     "output_type": "stream",
     "text": [
      "['Index']\n",
      "['fruit']\n",
      "['Index', 'Random Number']\n"
     ]
    }
   ],
   "source": [
    "print(df_num_fruit.columns)\n",
    "print(df_fruit.columns)\n",
    "print(df_random_num.columns)"
   ]
  },
  {
   "cell_type": "code",
   "execution_count": 143,
   "metadata": {},
   "outputs": [
    {
     "name": "stdout",
     "output_type": "stream",
     "text": [
      "9\n",
      "9\n"
     ]
    }
   ],
   "source": [
    "print(df_num_fruit.count())\n",
    "print(df_fruit.count())\n",
    "# df_combined = df_num_fruit.join(df_fruit)\n",
    "# df_combined.show()"
   ]
  },
  {
   "cell_type": "code",
   "execution_count": 144,
   "metadata": {
    "collapsed": true
   },
   "outputs": [],
   "source": [
    "def df_add_column(df,dfa,colname):\n",
    "    df_new = df.withColumn(colname,dfa.column(colname))\n",
    "    return df_new"
   ]
  },
  {
   "cell_type": "code",
   "execution_count": 145,
   "metadata": {},
   "outputs": [
    {
     "data": {
      "text/plain": [
       "['fruit']"
      ]
     },
     "execution_count": 145,
     "metadata": {},
     "output_type": "execute_result"
    }
   ],
   "source": [
    "df_fruit.columns"
   ]
  },
  {
   "cell_type": "code",
   "execution_count": 146,
   "metadata": {
    "collapsed": true
   },
   "outputs": [],
   "source": [
    "# df_num_fruit\n",
    "# df_fruit\n",
    "df_f2 = df_num_fruit.unionAll(df_fruit)\n",
    "\n",
    "# unionAll appends 2nd dataframe to the end of the 1st\n",
    "# Vertical Join"
   ]
  },
  {
   "cell_type": "code",
   "execution_count": 147,
   "metadata": {
    "scrolled": true
   },
   "outputs": [
    {
     "name": "stdout",
     "output_type": "stream",
     "text": [
      "+---------+\n",
      "|    Index|\n",
      "+---------+\n",
      "|        0|\n",
      "|        1|\n",
      "|        2|\n",
      "|        3|\n",
      "|        4|\n",
      "|        5|\n",
      "|        6|\n",
      "|        7|\n",
      "|        8|\n",
      "|    apple|\n",
      "|   orange|\n",
      "|   banana|\n",
      "|    grape|\n",
      "|    melon|\n",
      "|pineapple|\n",
      "|     kiwi|\n",
      "|    lemon|\n",
      "|     lime|\n",
      "+---------+\n",
      "\n"
     ]
    }
   ],
   "source": [
    "df_f2.show()"
   ]
  },
  {
   "cell_type": "code",
   "execution_count": 148,
   "metadata": {
    "collapsed": true
   },
   "outputs": [],
   "source": [
    "df_com = df_num_fruit.join(df_fruit,df_num_fruit['Index'] != df_fruit[\"fruit\"],\"outer\")\n",
    "\n",
    "# horizontal join, but non inner.."
   ]
  },
  {
   "cell_type": "code",
   "execution_count": 149,
   "metadata": {
    "scrolled": true
   },
   "outputs": [
    {
     "name": "stdout",
     "output_type": "stream",
     "text": [
      "+-----+---------+\n",
      "|Index|    fruit|\n",
      "+-----+---------+\n",
      "| null|    apple|\n",
      "| null|   orange|\n",
      "| null|   banana|\n",
      "| null|    grape|\n",
      "| null|    melon|\n",
      "| null|pineapple|\n",
      "| null|     kiwi|\n",
      "| null|    lemon|\n",
      "| null|     lime|\n",
      "|    0|     null|\n",
      "|    1|     null|\n",
      "|    2|     null|\n",
      "|    3|     null|\n",
      "|    4|     null|\n",
      "|    5|     null|\n",
      "|    6|     null|\n",
      "|    7|     null|\n",
      "|    8|     null|\n",
      "+-----+---------+\n",
      "\n"
     ]
    }
   ],
   "source": [
    "df_com.show()"
   ]
  },
  {
   "cell_type": "code",
   "execution_count": 150,
   "metadata": {
    "collapsed": true
   },
   "outputs": [],
   "source": [
    "X = myDF(ctx.spark)\n",
    "df_multi = X.df_multidimensional(4,3,[('name','string',6),\n",
    "                                      ('address','integer',(1000,9999)),\n",
    "                                      ('portion','double',(0.0,1.0))])"
   ]
  },
  {
   "cell_type": "code",
   "execution_count": 151,
   "metadata": {},
   "outputs": [
    {
     "name": "stdout",
     "output_type": "stream",
     "text": [
      "+------+-------+------------------+\n",
      "|  name|address|           portion|\n",
      "+------+-------+------------------+\n",
      "|gpeacy|   8152|0.0627452015618517|\n",
      "|dugaax|   7228|0.6211945956089492|\n",
      "|sqbzqt|   6102|0.5810574491628899|\n",
      "|axjuux|   9936| 0.708151095160395|\n",
      "+------+-------+------------------+\n",
      "\n"
     ]
    }
   ],
   "source": [
    "df_multi.show()"
   ]
  },
  {
   "cell_type": "markdown",
   "metadata": {
    "collapsed": true
   },
   "source": [
    "### Example 2. Another random, multidimensional dataframe"
   ]
  },
  {
   "cell_type": "code",
   "execution_count": 77,
   "metadata": {},
   "outputs": [],
   "source": [
    "X = GetDF(ctx.spark)\n",
    "df_multi6 = X.df_multidimensional(500,6,[('user','string',6),\n",
    "                                         ('id','integer',(1,10000)),\n",
    "                                         ('password','string2',13),\n",
    "                                         ('address','integer',(1000,9999)),\n",
    "                                         ('decimal','double',(0.0,1.0)),\n",
    "                                         ('worth','double',(0.0,10000000))])"
   ]
  },
  {
   "cell_type": "code",
   "execution_count": 78,
   "metadata": {
    "scrolled": true
   },
   "outputs": [
    {
     "name": "stdout",
     "output_type": "stream",
     "text": [
      "+------+----+-------------+-------+--------------------+------------------+\n",
      "|  user|  id|     password|address|             decimal|             worth|\n",
      "+------+----+-------------+-------+--------------------+------------------+\n",
      "|qudmyb|2769|pzvbhyufknwgb|   8231|  0.2182570101452227|  9638683.47567966|\n",
      "|rnbyxu|3620|ayxcnrwxcwxij|   6328|  0.4375813964663585|6888058.6361616105|\n",
      "|iboxbq|7248|yaqvqsyqcxxsd|   2187|  0.1605860400222402| 3643920.766596641|\n",
      "|qjozkw|9816|dunzotpzzqmmn|   7612| 0.43685858811573286| 4852881.343448941|\n",
      "|qefdjb|5071|dmuuhowbqxujs|   2082| 0.27363407492523295| 620154.8234011378|\n",
      "|rvaquk|9653|vxiqzqvgthtnx|   1426|  0.6341216863258613| 6922016.961281522|\n",
      "|ezurjv|8386|qjavzicfulftt|   5368|  0.5896090212464249| 5883109.552017249|\n",
      "|qvaync|2557|zovvxyzcvmwuf|   3865|   0.252827796875861|3679056.7732994673|\n",
      "|reksbc|5959|hixhymuoxetwi|   1367|  0.5233096998805179| 488629.3377563489|\n",
      "|wykfoz|1004|xsneqlsvnihwx|   5369|  0.5751442545704748| 2115708.978751638|\n",
      "|biqtlw|2237|flhihtpghyqzq|   3458| 0.42691960437100196|5803740.0986828925|\n",
      "|rvtkae|9921|wciiddguaslmh|   7684|0.001782385964152...| 6458425.182691116|\n",
      "|vkumbj|4874|khqcterbchcvw|   7895|  0.9601782739410946| 6543712.470895529|\n",
      "|rtxozm|9831|ztfvratigbllc|   1901|0.060376755572848606| 7972114.609629774|\n",
      "|bypoto|8322|cumozpatwvtiz|   3050| 0.34052349365903345| 6693829.358565138|\n",
      "|vtbizk|7675|dhxrtbafbfiui|   6630|  0.6452101665475094| 9841554.998537509|\n",
      "|cefeqy|1150|eksyxkqdnxmpu|   7447|  0.8769040805609309|4031556.3045816673|\n",
      "|pawajx|8526|boglnszvruvkg|   5642|  0.6770511967977503|  3870263.11122702|\n",
      "|gqnavh|6102|hheuykjdfhlfe|   9387|  0.7866229762002835| 8756669.155427119|\n",
      "|ceoyay|4396|hjdjkbrdeltxt|   4550|  0.7665277417625759| 2924273.918168766|\n",
      "+------+----+-------------+-------+--------------------+------------------+\n",
      "only showing top 20 rows\n",
      "\n"
     ]
    }
   ],
   "source": [
    "df_multi6.show()"
   ]
  },
  {
   "cell_type": "markdown",
   "metadata": {},
   "source": [
    "### Example 3. get_array --> to DataFrame"
   ]
  },
  {
   "cell_type": "code",
   "execution_count": 67,
   "metadata": {},
   "outputs": [
    {
     "name": "stdout",
     "output_type": "stream",
     "text": [
      "12 ['xejjmsol', 'zcaukdpi', 'wtrmyozp', 'yjwtbzwv', 'pmxiahcr', 'nenneick', 'ojaldduq', 'riepciie', 'dizkfwnw', 'nvfhezvw', 'aidcrygg', 'lpenaohj']\n",
      "12 [1 3 3 2 2 4 0 0 3 3 1 2]\n",
      "12 [10.0910574  10.07729548 10.04598313 10.05039545 10.08834741 10.04643331\n",
      " 10.03029783 10.00434859 10.03041613 10.0997134  10.02172155 10.04126944]\n"
     ]
    }
   ],
   "source": [
    "mystr = x.get_array(\"string\",num=12,width=8) \n",
    "myint = x.get_array(\"integer\",num=12,nrange=(0,4))    # inclusive on range\n",
    "mydoub = x.get_array(\"double\",num=12,nrange=(10,10.1))\n",
    "\n",
    "print(len(mystr),mystr)\n",
    "print(len(myint),myint)\n",
    "print(len(mydoub),mydoub)"
   ]
  },
  {
   "cell_type": "code",
   "execution_count": null,
   "metadata": {
    "collapsed": true
   },
   "outputs": [],
   "source": []
  },
  {
   "cell_type": "markdown",
   "metadata": {
    "collapsed": true
   },
   "source": [
    "### Get Partitioning: Write, Read, Partition .."
   ]
  },
  {
   "cell_type": "code",
   "execution_count": null,
   "metadata": {
    "collapsed": true
   },
   "outputs": [],
   "source": []
  }
 ],
 "metadata": {
  "kernelspec": {
   "display_name": "Python 3",
   "language": "python",
   "name": "python3"
  },
  "language_info": {
   "codemirror_mode": {
    "name": "ipython",
    "version": 3
   },
   "file_extension": ".py",
   "mimetype": "text/x-python",
   "name": "python",
   "nbconvert_exporter": "python",
   "pygments_lexer": "ipython3",
   "version": "3.6.1"
  }
 },
 "nbformat": 4,
 "nbformat_minor": 2
}
