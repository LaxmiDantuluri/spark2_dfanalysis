{
 "cells": [
  {
   "cell_type": "markdown",
   "metadata": {},
   "source": [
    "# DataFrame Builder:"
   ]
  },
  {
   "cell_type": "code",
   "execution_count": 119,
   "metadata": {},
   "outputs": [
    {
     "name": "stdout",
     "output_type": "stream",
     "text": [
      "The autoreload extension is already loaded. To reload it, use:\n",
      "  %reload_ext autoreload\n"
     ]
    }
   ],
   "source": [
    "%load_ext autoreload\n",
    "%autoreload 2\n",
    "\n",
    "# The autoreload extension is already loaded. To reload it, use:\n",
    "#  %reload_ext autoreload"
   ]
  },
  {
   "cell_type": "code",
   "execution_count": 120,
   "metadata": {
    "collapsed": true
   },
   "outputs": [],
   "source": [
    "import os\n",
    "import sys\n",
    "import numpy as np\n",
    "import pandas as pd\n",
    "\n",
    "pd.options.display.float_format = '{:20,.2f}'.format"
   ]
  },
  {
   "cell_type": "code",
   "execution_count": 121,
   "metadata": {},
   "outputs": [
    {
     "name": "stdout",
     "output_type": "stream",
     "text": [
      "3.6.1 |Anaconda 4.4.0 (64-bit)| (default, May 11 2017, 13:25:24) [MSC v.1900 64 bit (AMD64)]\n"
     ]
    }
   ],
   "source": [
    "print(sys.version)"
   ]
  },
  {
   "cell_type": "code",
   "execution_count": 122,
   "metadata": {},
   "outputs": [
    {
     "name": "stdout",
     "output_type": "stream",
     "text": [
      "C:\\ProgramData\\Anaconda3\n"
     ]
    }
   ],
   "source": [
    "print(os.path.dirname(sys.executable))"
   ]
  },
  {
   "cell_type": "code",
   "execution_count": 123,
   "metadata": {
    "collapsed": true
   },
   "outputs": [],
   "source": [
    "# mylib:\n",
    "my_library = os.path.expanduser('~/.myconfigs')\n",
    "my_spark = os.path.expanduser('~/spark2_dfanalysis')\n",
    "sys.path.append(my_library)\n",
    "sys.path.append(my_spark)"
   ]
  },
  {
   "cell_type": "code",
   "execution_count": 124,
   "metadata": {},
   "outputs": [
    {
     "name": "stdout",
     "output_type": "stream",
     "text": [
      "C:\\Users\\d810216/.myconfigs\n",
      "C:\\Users\\d810216/spark2_dfanalysis\n",
      "['.git', '.gitignore', 'example_notebooks', 'LICENSE', 'mydf', 'README.md', 'shared', '__init__.py']\n"
     ]
    }
   ],
   "source": [
    "# print(sys.path)\n",
    "print(my_library)\n",
    "print(my_spark)\n",
    "print(os.listdir(my_spark))"
   ]
  },
  {
   "cell_type": "code",
   "execution_count": 125,
   "metadata": {
    "collapsed": true
   },
   "outputs": [],
   "source": [
    "import pyspark as spark\n",
    "from pyspark.sql import SparkSession\n",
    "from pyspark.sql.types import *\n",
    "from pyspark.sql.functions import *\n",
    "\n",
    "spark = SparkSession.builder.appName('myappname').getOrCreate()"
   ]
  },
  {
   "cell_type": "code",
   "execution_count": 126,
   "metadata": {
    "collapsed": true
   },
   "outputs": [],
   "source": [
    "# print(dir(pyspark))\n",
    "# print(dir(pyspark.sql))\n",
    "# print(dir(pyspark.rdd))"
   ]
  },
  {
   "cell_type": "code",
   "execution_count": 127,
   "metadata": {
    "collapsed": true
   },
   "outputs": [],
   "source": [
    "from shared.app_context import *\n",
    "\n",
    "ctx = ApplicationContext(\"Dev-Job\")"
   ]
  },
  {
   "cell_type": "code",
   "execution_count": 128,
   "metadata": {},
   "outputs": [
    {
     "name": "stdout",
     "output_type": "stream",
     "text": [
      "<pyspark.sql.session.SparkSession object at 0x0000018A92982748>\n",
      "<pyspark.sql.session.SparkSession object at 0x0000018A92982748>\n"
     ]
    }
   ],
   "source": [
    "print(spark)\n",
    "print(ctx.spark)\n",
    "# print(dir(ctx.spark))"
   ]
  },
  {
   "cell_type": "code",
   "execution_count": 129,
   "metadata": {
    "collapsed": true
   },
   "outputs": [],
   "source": [
    "# print(sys.path)\n",
    "from mydf.DataFrameBuild import *"
   ]
  },
  {
   "cell_type": "markdown",
   "metadata": {},
   "source": [
    "## ^final import"
   ]
  },
  {
   "cell_type": "markdown",
   "metadata": {},
   "source": [
    "## DataFrameBuild\n",
    "### x = myDF(ctx.spark)"
   ]
  },
  {
   "cell_type": "code",
   "execution_count": 132,
   "metadata": {},
   "outputs": [
    {
     "name": "stdout",
     "output_type": "stream",
     "text": [
      "<class 'mydf.DataFrameBuild.myDF'>\n",
      "['__class__', '__delattr__', '__dict__', '__dir__', '__doc__', '__eq__', '__format__', '__ge__', '__getattribute__', '__gt__', '__hash__', '__init__', '__init_subclass__', '__le__', '__lt__', '__module__', '__ne__', '__new__', '__reduce__', '__reduce_ex__', '__repr__', '__setattr__', '__sizeof__', '__str__', '__subclasshook__', '__weakref__', 'decision_array_type', 'df_multidimensional', 'df_randomly_increasing_array', 'df_simple_array', 'df_string_array', 'get_StructField', 'get_double_array', 'get_integer_array', 'get_string_array', 'profile_partitions', 'profile_size', 'spark']\n",
      "<pyspark.sql.session.SparkSession object at 0x0000018A92982748>\n"
     ]
    },
    {
     "data": {
      "text/plain": [
       "DataFrame[Index: bigint]"
      ]
     },
     "execution_count": 132,
     "metadata": {},
     "output_type": "execute_result"
    }
   ],
   "source": [
    "x = myDF(ctx.spark)\n",
    "print(type(x))\n",
    "print(dir(x))\n",
    "print(x.spark)\n",
    "x.df_simple_array()\n",
    "#x.df_array(ctx.spark,10)"
   ]
  },
  {
   "cell_type": "markdown",
   "metadata": {},
   "source": [
    "### Create Arrays"
   ]
  },
  {
   "cell_type": "code",
   "execution_count": 133,
   "metadata": {},
   "outputs": [
    {
     "name": "stdout",
     "output_type": "stream",
     "text": [
      "+-----+\n",
      "|Index|\n",
      "+-----+\n",
      "|  5.0|\n",
      "|  6.0|\n",
      "|  7.0|\n",
      "|  8.0|\n",
      "+-----+\n",
      "\n"
     ]
    }
   ],
   "source": [
    "x.df_simple_array(5,8)\n",
    "x.count\n",
    "x.df.show()"
   ]
  },
  {
   "cell_type": "code",
   "execution_count": 134,
   "metadata": {
    "scrolled": true
   },
   "outputs": [
    {
     "name": "stdout",
     "output_type": "stream",
     "text": [
      "+-----+\n",
      "|Index|\n",
      "+-----+\n",
      "|    0|\n",
      "|    1|\n",
      "|    2|\n",
      "|    3|\n",
      "|    4|\n",
      "|    5|\n",
      "|    6|\n",
      "|    7|\n",
      "|    8|\n",
      "|    9|\n",
      "|   10|\n",
      "|   11|\n",
      "|   12|\n",
      "|   13|\n",
      "|   14|\n",
      "|   15|\n",
      "|   16|\n",
      "|   17|\n",
      "|   18|\n",
      "|   19|\n",
      "+-----+\n",
      "only showing top 20 rows\n",
      "\n"
     ]
    }
   ],
   "source": [
    "x.df_simple_array(1000)\n",
    "x.df.show()"
   ]
  },
  {
   "cell_type": "code",
   "execution_count": 135,
   "metadata": {},
   "outputs": [
    {
     "data": {
      "text/plain": [
       "DataFrame[Index: double, Random Number: double]"
      ]
     },
     "execution_count": 135,
     "metadata": {},
     "output_type": "execute_result"
    }
   ],
   "source": [
    "x.df_randomly_increasing_array(3)"
   ]
  },
  {
   "cell_type": "code",
   "execution_count": 136,
   "metadata": {
    "scrolled": true
   },
   "outputs": [
    {
     "data": {
      "text/html": [
       "<div>\n",
       "<style scoped>\n",
       "    .dataframe tbody tr th:only-of-type {\n",
       "        vertical-align: middle;\n",
       "    }\n",
       "\n",
       "    .dataframe tbody tr th {\n",
       "        vertical-align: top;\n",
       "    }\n",
       "\n",
       "    .dataframe thead th {\n",
       "        text-align: right;\n",
       "    }\n",
       "</style>\n",
       "<table border=\"1\" class=\"dataframe\">\n",
       "  <thead>\n",
       "    <tr style=\"text-align: right;\">\n",
       "      <th></th>\n",
       "      <th>Index</th>\n",
       "      <th>Random Number</th>\n",
       "    </tr>\n",
       "  </thead>\n",
       "  <tbody>\n",
       "    <tr>\n",
       "      <th>0</th>\n",
       "      <td>0.00</td>\n",
       "      <td>0.00</td>\n",
       "    </tr>\n",
       "    <tr>\n",
       "      <th>1</th>\n",
       "      <td>1.00</td>\n",
       "      <td>1.00</td>\n",
       "    </tr>\n",
       "    <tr>\n",
       "      <th>2</th>\n",
       "      <td>2.00</td>\n",
       "      <td>0.00</td>\n",
       "    </tr>\n",
       "    <tr>\n",
       "      <th>3</th>\n",
       "      <td>3.00</td>\n",
       "      <td>2.00</td>\n",
       "    </tr>\n",
       "    <tr>\n",
       "      <th>4</th>\n",
       "      <td>4.00</td>\n",
       "      <td>2.00</td>\n",
       "    </tr>\n",
       "    <tr>\n",
       "      <th>5</th>\n",
       "      <td>5.00</td>\n",
       "      <td>0.00</td>\n",
       "    </tr>\n",
       "    <tr>\n",
       "      <th>6</th>\n",
       "      <td>6.00</td>\n",
       "      <td>5.00</td>\n",
       "    </tr>\n",
       "    <tr>\n",
       "      <th>7</th>\n",
       "      <td>7.00</td>\n",
       "      <td>5.00</td>\n",
       "    </tr>\n",
       "    <tr>\n",
       "      <th>8</th>\n",
       "      <td>8.00</td>\n",
       "      <td>3.00</td>\n",
       "    </tr>\n",
       "    <tr>\n",
       "      <th>9</th>\n",
       "      <td>9.00</td>\n",
       "      <td>3.00</td>\n",
       "    </tr>\n",
       "    <tr>\n",
       "      <th>10</th>\n",
       "      <td>10.00</td>\n",
       "      <td>6.00</td>\n",
       "    </tr>\n",
       "    <tr>\n",
       "      <th>11</th>\n",
       "      <td>11.00</td>\n",
       "      <td>9.00</td>\n",
       "    </tr>\n",
       "    <tr>\n",
       "      <th>12</th>\n",
       "      <td>12.00</td>\n",
       "      <td>8.00</td>\n",
       "    </tr>\n",
       "    <tr>\n",
       "      <th>13</th>\n",
       "      <td>13.00</td>\n",
       "      <td>2.00</td>\n",
       "    </tr>\n",
       "    <tr>\n",
       "      <th>14</th>\n",
       "      <td>14.00</td>\n",
       "      <td>6.00</td>\n",
       "    </tr>\n",
       "    <tr>\n",
       "      <th>15</th>\n",
       "      <td>15.00</td>\n",
       "      <td>15.00</td>\n",
       "    </tr>\n",
       "    <tr>\n",
       "      <th>16</th>\n",
       "      <td>16.00</td>\n",
       "      <td>14.00</td>\n",
       "    </tr>\n",
       "    <tr>\n",
       "      <th>17</th>\n",
       "      <td>17.00</td>\n",
       "      <td>13.00</td>\n",
       "    </tr>\n",
       "    <tr>\n",
       "      <th>18</th>\n",
       "      <td>18.00</td>\n",
       "      <td>3.00</td>\n",
       "    </tr>\n",
       "    <tr>\n",
       "      <th>19</th>\n",
       "      <td>19.00</td>\n",
       "      <td>5.00</td>\n",
       "    </tr>\n",
       "  </tbody>\n",
       "</table>\n",
       "</div>"
      ],
      "text/plain": [
       "                  Index        Random Number\n",
       "0                  0.00                 0.00\n",
       "1                  1.00                 1.00\n",
       "2                  2.00                 0.00\n",
       "3                  3.00                 2.00\n",
       "4                  4.00                 2.00\n",
       "5                  5.00                 0.00\n",
       "6                  6.00                 5.00\n",
       "7                  7.00                 5.00\n",
       "8                  8.00                 3.00\n",
       "9                  9.00                 3.00\n",
       "10                10.00                 6.00\n",
       "11                11.00                 9.00\n",
       "12                12.00                 8.00\n",
       "13                13.00                 2.00\n",
       "14                14.00                 6.00\n",
       "15                15.00                15.00\n",
       "16                16.00                14.00\n",
       "17                17.00                13.00\n",
       "18                18.00                 3.00\n",
       "19                19.00                 5.00"
      ]
     },
     "execution_count": 136,
     "metadata": {},
     "output_type": "execute_result"
    }
   ],
   "source": [
    "for i in range(20):\n",
    "    x.df_randomly_increasing_array(50)\n",
    "    \n",
    "x.df.limit(20).toPandas()"
   ]
  },
  {
   "cell_type": "code",
   "execution_count": 137,
   "metadata": {
    "collapsed": true
   },
   "outputs": [],
   "source": [
    "fruit = [\"apple\",\"orange\",\"banana\",\"grape\",\"melon\",\"pineapple\",\"kiwi\",\"lemon\",\"lime\"]"
   ]
  },
  {
   "cell_type": "code",
   "execution_count": 138,
   "metadata": {
    "collapsed": true
   },
   "outputs": [],
   "source": [
    "df_fruit = x.spark.createDataFrame(fruit,StringType()).toDF(\"fruit\")"
   ]
  },
  {
   "cell_type": "code",
   "execution_count": 139,
   "metadata": {},
   "outputs": [
    {
     "name": "stdout",
     "output_type": "stream",
     "text": [
      "+---------+\n",
      "|    fruit|\n",
      "+---------+\n",
      "|    apple|\n",
      "|   orange|\n",
      "|   banana|\n",
      "|    grape|\n",
      "|    melon|\n",
      "|pineapple|\n",
      "|     kiwi|\n",
      "|    lemon|\n",
      "|     lime|\n",
      "+---------+\n",
      "\n"
     ]
    }
   ],
   "source": [
    "df_fruit.show()"
   ]
  },
  {
   "cell_type": "code",
   "execution_count": 140,
   "metadata": {
    "collapsed": true
   },
   "outputs": [],
   "source": [
    "def get_string_fields(lst):\n",
    "    n = len(lst)\n",
    "    fields = [StructField(x,StringType(),True) for x in lst]\n",
    "    return fields\n",
    "\n",
    "fields_fruit = get_string_fields(fruit)\n",
    "# df = x.spark.createDataFrame(fruits,fields_fruit)"
   ]
  },
  {
   "cell_type": "markdown",
   "metadata": {},
   "source": [
    "### Example 1."
   ]
  },
  {
   "cell_type": "code",
   "execution_count": 141,
   "metadata": {
    "scrolled": true
   },
   "outputs": [
    {
     "name": "stdout",
     "output_type": "stream",
     "text": [
      "+-----+\n",
      "|Index|\n",
      "+-----+\n",
      "|    0|\n",
      "|    1|\n",
      "|    2|\n",
      "|    3|\n",
      "|    4|\n",
      "|    5|\n",
      "|    6|\n",
      "|    7|\n",
      "|    8|\n",
      "+-----+\n",
      "\n",
      "+---------+\n",
      "|    fruit|\n",
      "+---------+\n",
      "|    apple|\n",
      "|   orange|\n",
      "|   banana|\n",
      "|    grape|\n",
      "|    melon|\n",
      "|pineapple|\n",
      "|     kiwi|\n",
      "|    lemon|\n",
      "|     lime|\n",
      "+---------+\n",
      "\n",
      "+-----+-------------+\n",
      "|Index|Random Number|\n",
      "+-----+-------------+\n",
      "|  0.0|          0.0|\n",
      "|  1.0|          1.0|\n",
      "|  2.0|          1.0|\n",
      "|  3.0|          2.0|\n",
      "|  4.0|          0.0|\n",
      "|  5.0|          4.0|\n",
      "|  6.0|          6.0|\n",
      "|  7.0|          7.0|\n",
      "|  8.0|          1.0|\n",
      "+-----+-------------+\n",
      "\n"
     ]
    }
   ],
   "source": [
    "X = myDF(ctx.spark)\n",
    "# print(fruit)\n",
    "# print(len(fruit))\n",
    "\n",
    "df_num_fruit = X.df_simple_array(len(fruit))\n",
    "df_random_num= X.df_randomly_increasing_array(len(fruit))\n",
    "df_fruit     = X.df_string_array(fruit,\"fruit\")\n",
    "\n",
    "df_num_fruit.show()\n",
    "df_fruit.show()\n",
    "df_random_num.show()"
   ]
  },
  {
   "cell_type": "markdown",
   "metadata": {},
   "source": [
    "#### concat ..."
   ]
  },
  {
   "cell_type": "code",
   "execution_count": 142,
   "metadata": {},
   "outputs": [
    {
     "name": "stdout",
     "output_type": "stream",
     "text": [
      "['Index']\n",
      "['fruit']\n",
      "['Index', 'Random Number']\n"
     ]
    }
   ],
   "source": [
    "print(df_num_fruit.columns)\n",
    "print(df_fruit.columns)\n",
    "print(df_random_num.columns)"
   ]
  },
  {
   "cell_type": "code",
   "execution_count": 143,
   "metadata": {},
   "outputs": [
    {
     "name": "stdout",
     "output_type": "stream",
     "text": [
      "9\n",
      "9\n"
     ]
    }
   ],
   "source": [
    "print(df_num_fruit.count())\n",
    "print(df_fruit.count())\n",
    "# df_combined = df_num_fruit.join(df_fruit)\n",
    "# df_combined.show()"
   ]
  },
  {
   "cell_type": "code",
   "execution_count": 144,
   "metadata": {
    "collapsed": true
   },
   "outputs": [],
   "source": [
    "def df_add_column(df,dfa,colname):\n",
    "    df_new = df.withColumn(colname,dfa.column(colname))\n",
    "    return df_new"
   ]
  },
  {
   "cell_type": "code",
   "execution_count": 145,
   "metadata": {},
   "outputs": [
    {
     "data": {
      "text/plain": [
       "['fruit']"
      ]
     },
     "execution_count": 145,
     "metadata": {},
     "output_type": "execute_result"
    }
   ],
   "source": [
    "df_fruit.columns"
   ]
  },
  {
   "cell_type": "code",
   "execution_count": 146,
   "metadata": {
    "collapsed": true
   },
   "outputs": [],
   "source": [
    "# df_num_fruit\n",
    "# df_fruit\n",
    "df_f2 = df_num_fruit.unionAll(df_fruit)\n",
    "\n",
    "# unionAll appends 2nd dataframe to the end of the 1st\n",
    "# Vertical Join"
   ]
  },
  {
   "cell_type": "code",
   "execution_count": 147,
   "metadata": {
    "scrolled": true
   },
   "outputs": [
    {
     "name": "stdout",
     "output_type": "stream",
     "text": [
      "+---------+\n",
      "|    Index|\n",
      "+---------+\n",
      "|        0|\n",
      "|        1|\n",
      "|        2|\n",
      "|        3|\n",
      "|        4|\n",
      "|        5|\n",
      "|        6|\n",
      "|        7|\n",
      "|        8|\n",
      "|    apple|\n",
      "|   orange|\n",
      "|   banana|\n",
      "|    grape|\n",
      "|    melon|\n",
      "|pineapple|\n",
      "|     kiwi|\n",
      "|    lemon|\n",
      "|     lime|\n",
      "+---------+\n",
      "\n"
     ]
    }
   ],
   "source": [
    "df_f2.show()"
   ]
  },
  {
   "cell_type": "code",
   "execution_count": 148,
   "metadata": {
    "collapsed": true
   },
   "outputs": [],
   "source": [
    "df_com = df_num_fruit.join(df_fruit,df_num_fruit['Index'] != df_fruit[\"fruit\"],\"outer\")\n",
    "\n",
    "# horizontal join, but non inner.."
   ]
  },
  {
   "cell_type": "code",
   "execution_count": 149,
   "metadata": {
    "scrolled": true
   },
   "outputs": [
    {
     "name": "stdout",
     "output_type": "stream",
     "text": [
      "+-----+---------+\n",
      "|Index|    fruit|\n",
      "+-----+---------+\n",
      "| null|    apple|\n",
      "| null|   orange|\n",
      "| null|   banana|\n",
      "| null|    grape|\n",
      "| null|    melon|\n",
      "| null|pineapple|\n",
      "| null|     kiwi|\n",
      "| null|    lemon|\n",
      "| null|     lime|\n",
      "|    0|     null|\n",
      "|    1|     null|\n",
      "|    2|     null|\n",
      "|    3|     null|\n",
      "|    4|     null|\n",
      "|    5|     null|\n",
      "|    6|     null|\n",
      "|    7|     null|\n",
      "|    8|     null|\n",
      "+-----+---------+\n",
      "\n"
     ]
    }
   ],
   "source": [
    "df_com.show()"
   ]
  },
  {
   "cell_type": "code",
   "execution_count": 150,
   "metadata": {},
   "outputs": [],
   "source": [
    "X = myDF(ctx.spark)\n",
    "df_multi = X.df_multidimensional(4,3,[('name','string',6),\n",
    "                                      ('address','integer',(1000,9999)),\n",
    "                                      ('portion','double',(0.0,1.0))])"
   ]
  },
  {
   "cell_type": "code",
   "execution_count": 151,
   "metadata": {},
   "outputs": [
    {
     "name": "stdout",
     "output_type": "stream",
     "text": [
      "+------+-------+------------------+\n",
      "|  name|address|           portion|\n",
      "+------+-------+------------------+\n",
      "|gpeacy|   8152|0.0627452015618517|\n",
      "|dugaax|   7228|0.6211945956089492|\n",
      "|sqbzqt|   6102|0.5810574491628899|\n",
      "|axjuux|   9936| 0.708151095160395|\n",
      "+------+-------+------------------+\n",
      "\n"
     ]
    }
   ],
   "source": [
    "df_multi.show()"
   ]
  },
  {
   "cell_type": "markdown",
   "metadata": {
    "collapsed": true
   },
   "source": [
    "### Example 2. Another random, multidimensional dataframe"
   ]
  },
  {
   "cell_type": "code",
   "execution_count": 157,
   "metadata": {},
   "outputs": [],
   "source": [
    "X = myDF(ctx.spark)\n",
    "df_multi6 = X.df_multidimensional(500,6,[('user','string',6),\n",
    "                                         ('id','integer',(1,10000)),\n",
    "                                         ('password','string2',13),\n",
    "                                         ('address','integer',(1000,9999)),\n",
    "                                         ('decimal','double',(0.0,1.0)),\n",
    "                                         ('worth','double',(0.0,10000000))])"
   ]
  },
  {
   "cell_type": "code",
   "execution_count": 158,
   "metadata": {
    "scrolled": true
   },
   "outputs": [
    {
     "name": "stdout",
     "output_type": "stream",
     "text": [
      "+------+----+-------------+-------+--------------------+------------------+\n",
      "|  user|  id|     password|address|             decimal|             worth|\n",
      "+------+----+-------------+-------+--------------------+------------------+\n",
      "|bxvjkk|4125|xhsuidngxzwlr|   4592| 0.18645979267794766| 5207642.988826174|\n",
      "|jvipeo|8773|jjexpzhvnxxvp|   4527|  0.9849664237312168| 4923841.936469173|\n",
      "|emykrk|  95|kgxouauobrcun|   3513| 0.02164571344004118| 4777471.233475206|\n",
      "|xcmrrh|9813|esssmqgmpcoeh|   9685|  0.6230717254224215| 8783795.160568986|\n",
      "|pesjob|9948|najivagznoual|   4792|  0.6258918293247617|  7823666.43257853|\n",
      "|yvplbx|8695|uaudzracdfaoc|   8811|0.008901480705241549| 9023736.787350742|\n",
      "|ycjptn|8868|iyxlkdgsedlyq|   9898|  0.5983402471306912| 9204869.110958809|\n",
      "|wzwnvd|3442|bwiqanpcxhhfb|   1215|  0.5938884268372867| 6582199.621034493|\n",
      "|loefuz|7254|ndbhicnukldjb|   4194|  0.9333085987713847|1270765.9085821488|\n",
      "|rjeang|3371|fusscjxuxjfou|   2654| 0.10123652305921149|1433882.7042716173|\n",
      "|srghjk|7441|vbyhqgekrlcge|   9741|  0.1046262709063619| 8191114.117631754|\n",
      "|txubfy|3704|larimpqawgvwo|   4653|  0.7466156513172023| 7649114.418202796|\n",
      "|miiwaa|9971|cfbacfndsrkog|   1634|  0.5510210195603488| 4838895.691413927|\n",
      "|goczsg| 717|fzjrowcpjqqyb|   1180| 0.12587660386095645| 997288.6691451787|\n",
      "|zqnsvv|8201|vdjqkibdmnlxz|   2923|  0.9091632994335783|6789456.3142926805|\n",
      "|mnmzqw|8464|ouqjelbokbzvv|   1087|  0.9690010321863036| 4983622.840756703|\n",
      "|vdxrfw|2775|oitqlrwovxbmu|   5718|   0.564439298761316| 8949909.392263522|\n",
      "|yjrmni|6011|oiweyzlphkifr|   3192| 0.05784528501972497| 7863364.785535695|\n",
      "|jamzdf| 479|jhcjwvtbhequo|   5144| 0.42937864770735357|  5672945.84761841|\n",
      "|cimhnv|4299|nlpyxqqbyzlpt|   1428|   0.315891448919404| 3691259.369615347|\n",
      "+------+----+-------------+-------+--------------------+------------------+\n",
      "only showing top 20 rows\n",
      "\n"
     ]
    }
   ],
   "source": [
    "df_multi6.show()"
   ]
  },
  {
   "cell_type": "markdown",
   "metadata": {
    "collapsed": true
   },
   "source": [
    "### Get Partitioning: Write, Read, Partition .."
   ]
  },
  {
   "cell_type": "code",
   "execution_count": null,
   "metadata": {
    "collapsed": true
   },
   "outputs": [],
   "source": []
  }
 ],
 "metadata": {
  "kernelspec": {
   "display_name": "Python 3",
   "language": "python",
   "name": "python3"
  },
  "language_info": {
   "codemirror_mode": {
    "name": "ipython",
    "version": 3
   },
   "file_extension": ".py",
   "mimetype": "text/x-python",
   "name": "python",
   "nbconvert_exporter": "python",
   "pygments_lexer": "ipython3",
   "version": "3.6.1"
  }
 },
 "nbformat": 4,
 "nbformat_minor": 2
}
