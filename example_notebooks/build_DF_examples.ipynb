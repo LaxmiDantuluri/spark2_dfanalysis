{
 "cells": [
  {
   "cell_type": "markdown",
   "metadata": {},
   "source": [
    "# DataFrame Builder:"
   ]
  },
  {
   "cell_type": "code",
   "execution_count": 29,
   "metadata": {
    "collapsed": true
   },
   "outputs": [],
   "source": [
    "import os\n",
    "import sys\n",
    "import numpy as np\n",
    "import pandas as pd\n",
    "\n",
    "pd.options.display.float_format = '{:8,.2f}'.format"
   ]
  },
  {
   "cell_type": "code",
   "execution_count": 2,
   "metadata": {
    "collapsed": true
   },
   "outputs": [],
   "source": [
    "# mylib:\n",
    "my_library = os.path.expanduser('~/.myconfigs')\n",
    "my_spark = os.path.expanduser('~/spark2_dfanalysis')\n",
    "sys.path.append(my_library)\n",
    "sys.path.append(my_spark)"
   ]
  },
  {
   "cell_type": "code",
   "execution_count": 3,
   "metadata": {
    "collapsed": true
   },
   "outputs": [],
   "source": [
    "import pyspark as spark\n",
    "from pyspark.sql import SparkSession\n",
    "from pyspark.sql.types import *\n",
    "from pyspark.sql.functions import *\n",
    "\n",
    "# spark = SparkSession.builder.appName('myappname').getOrCreate()\n",
    "# print(spark)"
   ]
  },
  {
   "cell_type": "code",
   "execution_count": 4,
   "metadata": {
    "collapsed": true
   },
   "outputs": [],
   "source": [
    "# print(dir(pyspark))\n",
    "# print(dir(pyspark.sql))\n",
    "# print(dir(pyspark.rdd))"
   ]
  },
  {
   "cell_type": "code",
   "execution_count": 5,
   "metadata": {},
   "outputs": [
    {
     "name": "stdout",
     "output_type": "stream",
     "text": [
      "<pyspark.sql.session.SparkSession object at 0x00000258EC00FEF0>\n"
     ]
    }
   ],
   "source": [
    "from shared.app_context import *\n",
    "\n",
    "ctx = ApplicationContext(\"Dev-Job\")\n",
    "print(ctx.spark)"
   ]
  },
  {
   "cell_type": "code",
   "execution_count": 6,
   "metadata": {
    "collapsed": true
   },
   "outputs": [],
   "source": [
    "# print(sys.path)\n",
    "from builder.DataFrameBuild import *"
   ]
  },
  {
   "cell_type": "markdown",
   "metadata": {},
   "source": [
    "## DataFrameBuild Class:\n",
    "### x = DataFrameBuild(ctx.spark)"
   ]
  },
  {
   "cell_type": "code",
   "execution_count": 7,
   "metadata": {},
   "outputs": [],
   "source": [
    "x = DataFrameBuild(ctx.spark)"
   ]
  },
  {
   "cell_type": "markdown",
   "metadata": {},
   "source": [
    "### build_array function"
   ]
  },
  {
   "cell_type": "code",
   "execution_count": 8,
   "metadata": {},
   "outputs": [
    {
     "name": "stdout",
     "output_type": "stream",
     "text": [
      "12 ['opeizyzr', 'attpzusd', 'quvokdqv', 'wxmouazi', 'dmkeherw', 'ehlkthcc', 'wnvrknzf', 'fldkrdji', 'nmplkbti', 'bnitphox', 'cxyaeaow', 'phhovscg']\n",
      "12 [4 4 4 1 3 0 4 1 4 4 1 0]\n",
      "12 [10.05958403 10.04038789 10.02415255 10.03016893 10.09653555 10.06439566\n",
      " 10.05368564 10.09777727 10.03880275 10.03040578 10.01831231 10.09674956]\n"
     ]
    }
   ],
   "source": [
    "mystr = x.build_array(\"string\",num=12,width=8) \n",
    "myint = x.build_array(\"integer\",num=12,nrange=(0,4))    # inclusive on range\n",
    "mydoub = x.build_array(\"double\",num=12,nrange=(10,10.1))\n",
    "\n",
    "print(len(mystr),mystr)\n",
    "print(len(myint),myint)\n",
    "print(len(mydoub),mydoub)"
   ]
  },
  {
   "cell_type": "markdown",
   "metadata": {},
   "source": [
    "### Ex1. Combine arrays, lists into DataFrame."
   ]
  },
  {
   "cell_type": "code",
   "execution_count": 10,
   "metadata": {},
   "outputs": [],
   "source": [
    "x = DataFrameBuild(ctx.spark)\n",
    "num = 500\n",
    "df4 = x.arrays_to_dataframe([x.build_array(\"string\",num=num,width=8),\n",
    "                        x.build_array(\"integer\",num=num,nrange=(1,4)),\n",
    "                        x.build_array(\"integer\",num=num,nrange=(1,12)),\n",
    "                        x.build_array(\"double\",num=num,nrange=(0.0,10000))],\n",
    "                      ['passwords','quarter','month','price'])"
   ]
  },
  {
   "cell_type": "code",
   "execution_count": 11,
   "metadata": {},
   "outputs": [
    {
     "data": {
      "text/html": [
       "<div>\n",
       "<style scoped>\n",
       "    .dataframe tbody tr th:only-of-type {\n",
       "        vertical-align: middle;\n",
       "    }\n",
       "\n",
       "    .dataframe tbody tr th {\n",
       "        vertical-align: top;\n",
       "    }\n",
       "\n",
       "    .dataframe thead th {\n",
       "        text-align: right;\n",
       "    }\n",
       "</style>\n",
       "<table border=\"1\" class=\"dataframe\">\n",
       "  <thead>\n",
       "    <tr style=\"text-align: right;\">\n",
       "      <th></th>\n",
       "      <th>passwords</th>\n",
       "      <th>quarter</th>\n",
       "      <th>month</th>\n",
       "      <th>price</th>\n",
       "    </tr>\n",
       "  </thead>\n",
       "  <tbody>\n",
       "    <tr>\n",
       "      <th>0</th>\n",
       "      <td>xdjmhvdv</td>\n",
       "      <td>3</td>\n",
       "      <td>7</td>\n",
       "      <td>512.07</td>\n",
       "    </tr>\n",
       "    <tr>\n",
       "      <th>1</th>\n",
       "      <td>hdttuclf</td>\n",
       "      <td>1</td>\n",
       "      <td>2</td>\n",
       "      <td>9,135.76</td>\n",
       "    </tr>\n",
       "    <tr>\n",
       "      <th>2</th>\n",
       "      <td>fqxfoius</td>\n",
       "      <td>3</td>\n",
       "      <td>2</td>\n",
       "      <td>2,469.62</td>\n",
       "    </tr>\n",
       "    <tr>\n",
       "      <th>3</th>\n",
       "      <td>srsvkoaj</td>\n",
       "      <td>4</td>\n",
       "      <td>11</td>\n",
       "      <td>2,648.54</td>\n",
       "    </tr>\n",
       "    <tr>\n",
       "      <th>4</th>\n",
       "      <td>jtqpjbuh</td>\n",
       "      <td>3</td>\n",
       "      <td>11</td>\n",
       "      <td>3,399.43</td>\n",
       "    </tr>\n",
       "    <tr>\n",
       "      <th>5</th>\n",
       "      <td>sfgvcmph</td>\n",
       "      <td>2</td>\n",
       "      <td>4</td>\n",
       "      <td>8,059.82</td>\n",
       "    </tr>\n",
       "    <tr>\n",
       "      <th>6</th>\n",
       "      <td>ktyhaltn</td>\n",
       "      <td>1</td>\n",
       "      <td>4</td>\n",
       "      <td>6,793.42</td>\n",
       "    </tr>\n",
       "    <tr>\n",
       "      <th>7</th>\n",
       "      <td>oqvsrbjf</td>\n",
       "      <td>4</td>\n",
       "      <td>2</td>\n",
       "      <td>6,056.37</td>\n",
       "    </tr>\n",
       "    <tr>\n",
       "      <th>8</th>\n",
       "      <td>yomocvlg</td>\n",
       "      <td>1</td>\n",
       "      <td>12</td>\n",
       "      <td>8,122.58</td>\n",
       "    </tr>\n",
       "    <tr>\n",
       "      <th>9</th>\n",
       "      <td>mmeiyrcn</td>\n",
       "      <td>1</td>\n",
       "      <td>2</td>\n",
       "      <td>7,984.30</td>\n",
       "    </tr>\n",
       "  </tbody>\n",
       "</table>\n",
       "</div>"
      ],
      "text/plain": [
       "  passwords  quarter  month                price\n",
       "0  xdjmhvdv        3      7               512.07\n",
       "1  hdttuclf        1      2             9,135.76\n",
       "2  fqxfoius        3      2             2,469.62\n",
       "3  srsvkoaj        4     11             2,648.54\n",
       "4  jtqpjbuh        3     11             3,399.43\n",
       "5  sfgvcmph        2      4             8,059.82\n",
       "6  ktyhaltn        1      4             6,793.42\n",
       "7  oqvsrbjf        4      2             6,056.37\n",
       "8  yomocvlg        1     12             8,122.58\n",
       "9  mmeiyrcn        1      2             7,984.30"
      ]
     },
     "execution_count": 11,
     "metadata": {},
     "output_type": "execute_result"
    }
   ],
   "source": [
    "df4.limit(10).toPandas()"
   ]
  },
  {
   "cell_type": "markdown",
   "metadata": {},
   "source": [
    "### Ex2. Combine arrays, lists into DataFrame."
   ]
  },
  {
   "cell_type": "code",
   "execution_count": 12,
   "metadata": {
    "collapsed": true
   },
   "outputs": [],
   "source": [
    "x = DataFrameBuild(ctx.spark)\n",
    "num = 500\n",
    "df4 = x.arrays_to_dataframe([[int(x) for x in np.linspace(1,num,num)],\n",
    "                             x.build_array(\"string\",num=num,width=8),\n",
    "                             x.build_array(\"integer\",num=num,nrange=(1,4)),\n",
    "                             x.build_array(\"integer\",num=num,nrange=(1,12)),\n",
    "                             x.build_array(\"double\",num=num,nrange=(0.0,10000))],\n",
    "                             ['index','passwords','quarter','month','price'])"
   ]
  },
  {
   "cell_type": "code",
   "execution_count": 13,
   "metadata": {},
   "outputs": [
    {
     "name": "stdout",
     "output_type": "stream",
     "text": [
      "+-----+---------+-------+-----+------------------+\n",
      "|index|passwords|quarter|month|             price|\n",
      "+-----+---------+-------+-----+------------------+\n",
      "|    1| cyztyrko|      4|    5|314.34591154064105|\n",
      "|    2| dnjjnmog|      3|   12|2539.7816194662882|\n",
      "|    3| zoxkrvlh|      2|   12| 9801.939184016917|\n",
      "|    4| cvijsyye|      4|    9| 3677.520232671988|\n",
      "|    5| okdhgred|      4|   12|276.09900447780444|\n",
      "|    6| hmlpmbee|      2|   10| 9536.927951560743|\n",
      "|    7| tyegbebb|      3|    9| 9286.739083559703|\n",
      "|    8| mgifqqyk|      2|    6|1187.9236726452248|\n",
      "|    9| ifapfcib|      1|    1| 7746.014392663392|\n",
      "|   10| vgsirpgx|      3|    4|2773.1656526600714|\n",
      "|   11| xwgwkcds|      3|   11|1219.0549284092378|\n",
      "|   12| vipkcbag|      4|   10| 9677.401001532802|\n",
      "|   13| cssmcddg|      1|   12|3563.4784574583246|\n",
      "|   14| cujfjyra|      2|    1| 9453.952312881494|\n",
      "|   15| rjgzczvx|      1|    3| 2465.080085638733|\n",
      "|   16| qwxtfcwm|      1|   11| 4954.020688559832|\n",
      "|   17| cdfsadig|      3|    7|1214.5917421422926|\n",
      "|   18| lgjewlrl|      2|    6|2974.4855933850877|\n",
      "|   19| bvqrhjal|      1|    2|1466.1082734462505|\n",
      "|   20| bgxiuoje|      3|   11|   8283.2056321973|\n",
      "+-----+---------+-------+-----+------------------+\n",
      "only showing top 20 rows\n",
      "\n"
     ]
    }
   ],
   "source": [
    "df4.show()"
   ]
  },
  {
   "cell_type": "code",
   "execution_count": 14,
   "metadata": {},
   "outputs": [
    {
     "name": "stdout",
     "output_type": "stream",
     "text": [
      "+-----+---------+-------+-----+------------------+\n",
      "|index|passwords|quarter|month|             price|\n",
      "+-----+---------+-------+-----+------------------+\n",
      "|    1| cyztyrko|      4|    5|314.34591154064105|\n",
      "|    2| dnjjnmog|      3|   12|2539.7816194662882|\n",
      "|    3| zoxkrvlh|      2|   12| 9801.939184016917|\n",
      "|    4| cvijsyye|      4|    9| 3677.520232671988|\n",
      "|    5| okdhgred|      4|   12|276.09900447780444|\n",
      "|    6| hmlpmbee|      2|   10| 9536.927951560743|\n",
      "|    7| tyegbebb|      3|    9| 9286.739083559703|\n",
      "|    8| mgifqqyk|      2|    6|1187.9236726452248|\n",
      "|    9| ifapfcib|      1|    1| 7746.014392663392|\n",
      "|   10| vgsirpgx|      3|    4|2773.1656526600714|\n",
      "|   11| xwgwkcds|      3|   11|1219.0549284092378|\n",
      "|   12| vipkcbag|      4|   10| 9677.401001532802|\n",
      "|   13| cssmcddg|      1|   12|3563.4784574583246|\n",
      "|   14| cujfjyra|      2|    1| 9453.952312881494|\n",
      "|   15| rjgzczvx|      1|    3| 2465.080085638733|\n",
      "|   16| qwxtfcwm|      1|   11| 4954.020688559832|\n",
      "|   17| cdfsadig|      3|    7|1214.5917421422926|\n",
      "|   18| lgjewlrl|      2|    6|2974.4855933850877|\n",
      "|   19| bvqrhjal|      1|    2|1466.1082734462505|\n",
      "|   20| bgxiuoje|      3|   11|   8283.2056321973|\n",
      "+-----+---------+-------+-----+------------------+\n",
      "only showing top 20 rows\n",
      "\n"
     ]
    }
   ],
   "source": [
    "df4.orderBy(\"index\").show()"
   ]
  },
  {
   "cell_type": "code",
   "execution_count": 84,
   "metadata": {},
   "outputs": [
    {
     "data": {
      "text/plain": [
       "500"
      ]
     },
     "execution_count": 84,
     "metadata": {},
     "output_type": "execute_result"
    }
   ],
   "source": [
    "df4.select(\"index\").distinct().count()"
   ]
  },
  {
   "cell_type": "markdown",
   "metadata": {},
   "source": [
    "### Ex3. Combine arrays, lists into DataFrame."
   ]
  },
  {
   "cell_type": "code",
   "execution_count": 30,
   "metadata": {},
   "outputs": [],
   "source": [
    "x = DataFrameBuild(ctx.spark)\n",
    "num = 5000\n",
    "lst_cars = [random.choice(['Honda','Toyota','Chevy','Ford','Tesla','Volkswagon','Hyundai','Jeep']) for x in range(num)]\n",
    "df4 = x.arrays_to_dataframe([[int(x) for x in np.linspace(1,num,num)],\n",
    "                             x.build_array(\"string\",num=num,width=8),\n",
    "                             x.build_array(\"integer\",num=num,nrange=(1,4)),\n",
    "                             x.build_array(\"integer\",num=num,nrange=(1,12)),\n",
    "                             x.build_array(\"double\",num=num,nrange=(0.0,50000)),\n",
    "                             lst_cars],\n",
    "                             ['index','passwords','quarter','month','price','cars'])"
   ]
  },
  {
   "cell_type": "code",
   "execution_count": 31,
   "metadata": {},
   "outputs": [
    {
     "name": "stdout",
     "output_type": "stream",
     "text": [
      "+-----+---------+-------+-----+------------------+----------+\n",
      "|index|passwords|quarter|month|             price|      cars|\n",
      "+-----+---------+-------+-----+------------------+----------+\n",
      "|    1| upaiogwd|      2|    1|31834.913179518964|Volkswagon|\n",
      "|    2| aofdlaoj|      3|    4| 46222.26741716476|     Chevy|\n",
      "|    3| rqbugoax|      4|    9| 5729.822129404549|      Ford|\n",
      "|    4| vctpzwfm|      2|    9| 540.3028094369378|     Chevy|\n",
      "|    5| pxumxlyj|      2|    1|23723.352432642987|    Toyota|\n",
      "|    6| mrdrttae|      2|    4|15590.222872908716|     Honda|\n",
      "|    7| ykyretny|      2|    5| 49120.26087935749|      Ford|\n",
      "|    8| fetqaacg|      1|    9| 3148.676126666838|Volkswagon|\n",
      "|    9| buqokjjj|      1|    2| 7208.513561178865|     Chevy|\n",
      "|   10| awgyxjrm|      2|   11|49425.871056957985|     Tesla|\n",
      "|   11| esvezafb|      1|    4| 4487.474654253665|    Toyota|\n",
      "|   12| gglnloij|      4|    2| 41794.59162045686|     Chevy|\n",
      "|   13| idtpxsgc|      3|   12| 8166.171991164645|Volkswagon|\n",
      "|   14| mmvymhca|      4|    3| 32549.64136676255|     Honda|\n",
      "|   15| pveivpvm|      2|    3|32489.369501637226|   Hyundai|\n",
      "|   16| reuohrwk|      3|    8|22577.965728931104|Volkswagon|\n",
      "|   17| dizhchqr|      1|   11| 29902.95464747582|     Honda|\n",
      "|   18| xobpyobk|      4|   11|13423.712903418367|      Jeep|\n",
      "|   19| hyaipjxd|      4|   12| 8819.353651764279|    Toyota|\n",
      "|   20| kgcowpfn|      2|    8|44391.685527307636|     Chevy|\n",
      "+-----+---------+-------+-----+------------------+----------+\n",
      "only showing top 20 rows\n",
      "\n"
     ]
    }
   ],
   "source": [
    "df4.show(20)"
   ]
  },
  {
   "cell_type": "code",
   "execution_count": 32,
   "metadata": {},
   "outputs": [
    {
     "data": {
      "text/plain": [
       "5000"
      ]
     },
     "execution_count": 32,
     "metadata": {},
     "output_type": "execute_result"
    }
   ],
   "source": [
    "df4.count() "
   ]
  },
  {
   "cell_type": "code",
   "execution_count": null,
   "metadata": {
    "collapsed": true
   },
   "outputs": [],
   "source": []
  }
 ],
 "metadata": {
  "kernelspec": {
   "display_name": "Python 3",
   "language": "python",
   "name": "python3"
  },
  "language_info": {
   "codemirror_mode": {
    "name": "ipython",
    "version": 3
   },
   "file_extension": ".py",
   "mimetype": "text/x-python",
   "name": "python",
   "nbconvert_exporter": "python",
   "pygments_lexer": "ipython3",
   "version": "3.6.1"
  }
 },
 "nbformat": 4,
 "nbformat_minor": 2
}
