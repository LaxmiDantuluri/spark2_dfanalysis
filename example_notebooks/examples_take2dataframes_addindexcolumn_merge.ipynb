{
 "cells": [
  {
   "cell_type": "markdown",
   "metadata": {},
   "source": [
    "# take2dataframes_addindexcolumn_merge"
   ]
  },
  {
   "cell_type": "code",
   "execution_count": 23,
   "metadata": {
    "collapsed": true
   },
   "outputs": [],
   "source": [
    "%load_ext autoreload\n",
    "%autoreload 2\n",
    "\n",
    "# The autoreload extension is already loaded. To reload it, use:\n",
    "#  %reload_ext autoreload"
   ]
  },
  {
   "cell_type": "code",
   "execution_count": 14,
   "metadata": {
    "collapsed": true
   },
   "outputs": [],
   "source": [
    "import os\n",
    "import sys\n",
    "import numpy as np\n",
    "import pandas as pd\n",
    "\n",
    "pd.options.display.float_format = '{:8,.2f}'.format"
   ]
  },
  {
   "cell_type": "code",
   "execution_count": 15,
   "metadata": {
    "collapsed": true
   },
   "outputs": [],
   "source": [
    "# mylib:\n",
    "my_library = os.path.expanduser('~/.myconfigs')\n",
    "my_spark = os.path.expanduser('~/spark2_dfanalysis')\n",
    "sys.path.append(my_library)\n",
    "sys.path.append(my_spark)"
   ]
  },
  {
   "cell_type": "code",
   "execution_count": 16,
   "metadata": {
    "collapsed": true
   },
   "outputs": [],
   "source": [
    "import pyspark as spark\n",
    "from pyspark.sql import SparkSession\n",
    "from pyspark.sql.types import *\n",
    "from pyspark.sql.functions import *\n",
    "\n",
    "# spark = SparkSession.builder.appName('myappname').getOrCreate()\n",
    "# print(spark)"
   ]
  },
  {
   "cell_type": "code",
   "execution_count": 17,
   "metadata": {
    "collapsed": true
   },
   "outputs": [],
   "source": [
    "# print(dir(pyspark))\n",
    "# print(dir(pyspark.sql))\n",
    "# print(dir(pyspark.rdd))"
   ]
  },
  {
   "cell_type": "code",
   "execution_count": 18,
   "metadata": {},
   "outputs": [
    {
     "name": "stdout",
     "output_type": "stream",
     "text": [
      "<pyspark.sql.session.SparkSession object at 0x0000015501A4EEF0>\n"
     ]
    }
   ],
   "source": [
    "from shared.app_context import *\n",
    "\n",
    "ctx = ApplicationContext(\"Dev-Job\")\n",
    "print(ctx.spark)"
   ]
  },
  {
   "cell_type": "code",
   "execution_count": 24,
   "metadata": {
    "collapsed": true
   },
   "outputs": [],
   "source": [
    "# print(sys.path)\n",
    "from builder.DataFrameBuild import *"
   ]
  },
  {
   "cell_type": "markdown",
   "metadata": {},
   "source": [
    "## DataFrameBuild Class:\n",
    "### x = DataFrameBuild(ctx.spark)"
   ]
  },
  {
   "cell_type": "code",
   "execution_count": 25,
   "metadata": {
    "collapsed": true
   },
   "outputs": [],
   "source": [
    "x = DataFrameBuild(ctx.spark)"
   ]
  },
  {
   "cell_type": "markdown",
   "metadata": {},
   "source": [
    "### build_array function"
   ]
  },
  {
   "cell_type": "code",
   "execution_count": 28,
   "metadata": {},
   "outputs": [],
   "source": [
    "x = DataFrameBuild(ctx.spark)\n",
    "num = 500\n",
    "df1 = x.arrays_to_dataframe([x.build_array(\"string\",num=num,width=8),\n",
    "                        x.build_array(\"integer\",num=num,nrange=(1,4)),\n",
    "                        x.build_array(\"integer\",num=num,nrange=(1,12)),\n",
    "                        x.build_array(\"double\",num=num,nrange=(0.0,10000))],\n",
    "                      ['passwords','quarter','month','price'])"
   ]
  },
  {
   "cell_type": "code",
   "execution_count": 29,
   "metadata": {},
   "outputs": [],
   "source": [
    "x = DataFrameBuild(ctx.spark)\n",
    "num = 500\n",
    "df2 = x.arrays_to_dataframe([[int(x) for x in np.linspace(1,num,num)],\n",
    "                             x.build_array(\"string\",num=num,width=8),\n",
    "                             x.build_array(\"integer\",num=num,nrange=(1,4)),\n",
    "                             x.build_array(\"integer\",num=num,nrange=(1,12)),\n",
    "                             x.build_array(\"double\",num=num,nrange=(0.0,10000))],\n",
    "                             ['index','passwords','quarter','month','price'])"
   ]
  },
  {
   "cell_type": "code",
   "execution_count": 30,
   "metadata": {},
   "outputs": [
    {
     "name": "stdout",
     "output_type": "stream",
     "text": [
      "+---------+-------+-----+------------------+\n",
      "|passwords|quarter|month|             price|\n",
      "+---------+-------+-----+------------------+\n",
      "| jktzadpz|      2|    5| 6315.927877497339|\n",
      "| zsfkaoja|      1|    3|1008.0624239640101|\n",
      "| zoyujjek|      4|    6|  9495.53696488902|\n",
      "| uwnyqmbs|      3|    1| 5823.122954583383|\n",
      "| hyuorjos|      4|    4|7097.9954829228045|\n",
      "| kjaxvhlq|      1|   10| 7873.869160668674|\n",
      "| llypurly|      4|    1|2105.9319412164023|\n",
      "| nkxwfjib|      4|    7|1422.1175793618224|\n",
      "| gyucoqaw|      1|    6| 6033.527832550008|\n",
      "| hpezpydc|      1|    1| 595.7052983554445|\n",
      "+---------+-------+-----+------------------+\n",
      "\n"
     ]
    }
   ],
   "source": [
    "df1.limit(10).show()"
   ]
  },
  {
   "cell_type": "code",
   "execution_count": 32,
   "metadata": {},
   "outputs": [
    {
     "name": "stdout",
     "output_type": "stream",
     "text": [
      "+-----+---------+-------+-----+------------------+\n",
      "|index|passwords|quarter|month|             price|\n",
      "+-----+---------+-------+-----+------------------+\n",
      "|    1| yhnkdqkl|      2|    8| 9886.547501092942|\n",
      "|    2| kojjwyho|      4|   10| 8393.003617794908|\n",
      "|    3| indnyckk|      1|    5| 7766.784810103539|\n",
      "|    4| ymomvurh|      3|   11| 8325.585513085633|\n",
      "|    5| oczsudwq|      3|    2| 464.2706937788077|\n",
      "|    6| nfwfkdli|      2|    2|1429.0868836064808|\n",
      "|    7| lwvdpqzz|      4|    9|2868.8820361154744|\n",
      "|    8| tqnegxdy|      1|    4| 2887.854409167768|\n",
      "|    9| vefkitkw|      4|    1| 2396.812922832826|\n",
      "|   10| jraekgxs|      2|   11|  8428.90505002657|\n",
      "+-----+---------+-------+-----+------------------+\n",
      "\n"
     ]
    }
   ],
   "source": [
    "df2.limit(10).show()"
   ]
  },
  {
   "cell_type": "markdown",
   "metadata": {},
   "source": [
    "## Let's add indices to df1 and join to df2"
   ]
  },
  {
   "cell_type": "code",
   "execution_count": 47,
   "metadata": {},
   "outputs": [],
   "source": [
    "df1_minus_index = df1.withColumn(\"index\",lit(-1))"
   ]
  },
  {
   "cell_type": "code",
   "execution_count": 48,
   "metadata": {},
   "outputs": [
    {
     "name": "stdout",
     "output_type": "stream",
     "text": [
      "+---------+-------+-----+------------------+-----+\n",
      "|passwords|quarter|month|             price|index|\n",
      "+---------+-------+-----+------------------+-----+\n",
      "| jktzadpz|      2|    5| 6315.927877497339|   -1|\n",
      "| zsfkaoja|      1|    3|1008.0624239640101|   -1|\n",
      "| zoyujjek|      4|    6|  9495.53696488902|   -1|\n",
      "| uwnyqmbs|      3|    1| 5823.122954583383|   -1|\n",
      "| hyuorjos|      4|    4|7097.9954829228045|   -1|\n",
      "| kjaxvhlq|      1|   10| 7873.869160668674|   -1|\n",
      "| llypurly|      4|    1|2105.9319412164023|   -1|\n",
      "| nkxwfjib|      4|    7|1422.1175793618224|   -1|\n",
      "| gyucoqaw|      1|    6| 6033.527832550008|   -1|\n",
      "| hpezpydc|      1|    1| 595.7052983554445|   -1|\n",
      "+---------+-------+-----+------------------+-----+\n",
      "\n"
     ]
    }
   ],
   "source": [
    "df1_minus_index.limit(10).show()"
   ]
  },
  {
   "cell_type": "code",
   "execution_count": null,
   "metadata": {
    "collapsed": true
   },
   "outputs": [],
   "source": [
    "df1_assign_index = df1_minus_index.withColumn(\"index\",))"
   ]
  },
  {
   "cell_type": "code",
   "execution_count": null,
   "metadata": {
    "collapsed": true
   },
   "outputs": [],
   "source": []
  },
  {
   "cell_type": "markdown",
   "metadata": {},
   "source": [
    "### Create DataFrames"
   ]
  },
  {
   "cell_type": "markdown",
   "metadata": {},
   "source": [
    "#### Create Arrays"
   ]
  },
  {
   "cell_type": "code",
   "execution_count": 35,
   "metadata": {},
   "outputs": [
    {
     "name": "stdout",
     "output_type": "stream",
     "text": [
      "12 ['cefxiqcn', 'bwxszvez', 'swowagsw', 'drpitckf', 'aflesjgh', 'nbpkxwwm', 'tznyvrfs', 'cxmqoxii', 'whsfkgxa', 'yfuvzfkh', 'ndktklbv', 'vrnmtxhr']\n",
      "12 [2 3 3 2 3 3 1 3 1 0 4 0]\n",
      "12 [10.09726487 10.04734221 10.02175792 10.03752397 10.04964153 10.04768964\n",
      " 10.02586561 10.04138514 10.05196071 10.0163472  10.0844833  10.06077905]\n"
     ]
    }
   ],
   "source": [
    "mystr = x.build_array(\"string\",num=12,width=8) \n",
    "myint = x.build_array(\"integer\",num=12,nrange=(0,4))    # inclusive on range\n",
    "mydoub = x.build_array(\"double\",num=12,nrange=(10,10.1))\n",
    "\n",
    "print(len(mystr),mystr)\n",
    "print(len(myint),myint)\n",
    "print(len(mydoub),mydoub)"
   ]
  },
  {
   "cell_type": "markdown",
   "metadata": {},
   "source": [
    "#### with a list of list of strings, and list of string of length 1"
   ]
  },
  {
   "cell_type": "code",
   "execution_count": 36,
   "metadata": {},
   "outputs": [
    {
     "name": "stdout",
     "output_type": "stream",
     "text": [
      "12\n",
      "+--------------+\n",
      "|random_letters|\n",
      "+--------------+\n",
      "|      cefxiqcn|\n",
      "|      bwxszvez|\n",
      "|      swowagsw|\n",
      "|      drpitckf|\n",
      "|      aflesjgh|\n",
      "|      nbpkxwwm|\n",
      "|      tznyvrfs|\n",
      "|      cxmqoxii|\n",
      "|      whsfkgxa|\n",
      "|      yfuvzfkh|\n",
      "|      ndktklbv|\n",
      "|      vrnmtxhr|\n",
      "+--------------+\n",
      "\n"
     ]
    }
   ],
   "source": [
    "dfx = x.arrays_to_dataframe([mystr],['random_letters'])\n",
    "print(dfx.count())\n",
    "dfx.show()\n",
    "\n",
    "# [StructField(str,StringType,true)]\n",
    "# ['str']"
   ]
  },
  {
   "cell_type": "markdown",
   "metadata": {},
   "source": [
    "#### with a list of list of strings, and a string"
   ]
  },
  {
   "cell_type": "code",
   "execution_count": 37,
   "metadata": {},
   "outputs": [
    {
     "name": "stdout",
     "output_type": "stream",
     "text": [
      "12\n",
      "+--------------+\n",
      "|random_letters|\n",
      "+--------------+\n",
      "|      cefxiqcn|\n",
      "|      bwxszvez|\n",
      "|      swowagsw|\n",
      "|      drpitckf|\n",
      "|      aflesjgh|\n",
      "|      nbpkxwwm|\n",
      "|      tznyvrfs|\n",
      "|      cxmqoxii|\n",
      "|      whsfkgxa|\n",
      "|      yfuvzfkh|\n",
      "|      ndktklbv|\n",
      "|      vrnmtxhr|\n",
      "+--------------+\n",
      "\n"
     ]
    }
   ],
   "source": [
    "dfx = x.arrays_to_dataframe([mystr],'random_letters')\n",
    "print(dfx.count())\n",
    "dfx.show()\n",
    "\n",
    "# [StructField(str,StringType,true)]\n",
    "# ['str']"
   ]
  },
  {
   "cell_type": "markdown",
   "metadata": {},
   "source": [
    "#### with lists of length 2"
   ]
  },
  {
   "cell_type": "code",
   "execution_count": 38,
   "metadata": {},
   "outputs": [
    {
     "name": "stdout",
     "output_type": "stream",
     "text": [
      "[2 3 3 2 3 3 1 3 1 0 4 0]\n",
      "['cefxiqcn', 'bwxszvez', 'swowagsw', 'drpitckf', 'aflesjgh', 'nbpkxwwm', 'tznyvrfs', 'cxmqoxii', 'whsfkgxa', 'yfuvzfkh', 'ndktklbv', 'vrnmtxhr']\n",
      "12\n",
      "+-----------+--------------+\n",
      "|random_ints|random_letters|\n",
      "+-----------+--------------+\n",
      "|          2|      cefxiqcn|\n",
      "|          3|      bwxszvez|\n",
      "|          3|      swowagsw|\n",
      "|          2|      drpitckf|\n",
      "|          3|      aflesjgh|\n",
      "|          3|      nbpkxwwm|\n",
      "|          1|      tznyvrfs|\n",
      "|          3|      cxmqoxii|\n",
      "|          1|      whsfkgxa|\n",
      "|          0|      yfuvzfkh|\n",
      "|          4|      ndktklbv|\n",
      "|          0|      vrnmtxhr|\n",
      "+-----------+--------------+\n",
      "\n"
     ]
    }
   ],
   "source": [
    "print(myint)\n",
    "print(mystr)\n",
    "dfx = x.arrays_to_dataframe([myint,mystr],['random_ints','random_letters'])\n",
    "print(dfx.count())\n",
    "dfx.show()\n",
    "\n",
    "# [StructField(str,StringType,true)]\n",
    "# ['str']"
   ]
  },
  {
   "cell_type": "markdown",
   "metadata": {},
   "source": [
    "#### with a list and a string"
   ]
  },
  {
   "cell_type": "code",
   "execution_count": 39,
   "metadata": {},
   "outputs": [
    {
     "name": "stdout",
     "output_type": "stream",
     "text": [
      "12\n",
      "+-------------+\n",
      "|crazy_strings|\n",
      "+-------------+\n",
      "|     cefxiqcn|\n",
      "|     bwxszvez|\n",
      "|     swowagsw|\n",
      "|     drpitckf|\n",
      "|     aflesjgh|\n",
      "|     nbpkxwwm|\n",
      "|     tznyvrfs|\n",
      "|     cxmqoxii|\n",
      "|     whsfkgxa|\n",
      "|     yfuvzfkh|\n",
      "|     ndktklbv|\n",
      "|     vrnmtxhr|\n",
      "+-------------+\n",
      "\n"
     ]
    }
   ],
   "source": [
    "dfx = x.arrays_to_dataframe(mystr,'crazy_strings')\n",
    "print(dfx.count())\n",
    "dfx.show()\n",
    "\n",
    "# [StructField(str,StringType,true)]\n",
    "# ['str']"
   ]
  },
  {
   "cell_type": "markdown",
   "metadata": {},
   "source": [
    "#### with an array and a string"
   ]
  },
  {
   "cell_type": "code",
   "execution_count": 40,
   "metadata": {},
   "outputs": [
    {
     "name": "stdout",
     "output_type": "stream",
     "text": [
      "31\n",
      "+--------+\n",
      "|integers|\n",
      "+--------+\n",
      "|     0.0|\n",
      "|     1.0|\n",
      "|     2.0|\n",
      "|     3.0|\n",
      "|     4.0|\n",
      "|     5.0|\n",
      "|     6.0|\n",
      "|     7.0|\n",
      "|     8.0|\n",
      "|     9.0|\n",
      "|    10.0|\n",
      "|    11.0|\n",
      "|    12.0|\n",
      "|    13.0|\n",
      "|    14.0|\n",
      "|    15.0|\n",
      "|    16.0|\n",
      "|    17.0|\n",
      "|    18.0|\n",
      "|    19.0|\n",
      "+--------+\n",
      "only showing top 20 rows\n",
      "\n"
     ]
    }
   ],
   "source": [
    "dfx = x.arrays_to_dataframe(np.linspace(0,30,31),'integers')\n",
    "print(dfx.count())\n",
    "dfx.show()\n",
    "\n",
    "# [StructField(str,StringType,true)]\n",
    "# ['str']"
   ]
  },
  {
   "cell_type": "markdown",
   "metadata": {},
   "source": [
    "#### with 1 array, no names"
   ]
  },
  {
   "cell_type": "code",
   "execution_count": 41,
   "metadata": {},
   "outputs": [
    {
     "name": "stdout",
     "output_type": "stream",
     "text": [
      "12\n",
      "+--------+\n",
      "|     str|\n",
      "+--------+\n",
      "|cefxiqcn|\n",
      "|bwxszvez|\n",
      "|swowagsw|\n",
      "|drpitckf|\n",
      "|aflesjgh|\n",
      "|nbpkxwwm|\n",
      "|tznyvrfs|\n",
      "|cxmqoxii|\n",
      "|whsfkgxa|\n",
      "|yfuvzfkh|\n",
      "|ndktklbv|\n",
      "|vrnmtxhr|\n",
      "+--------+\n",
      "\n"
     ]
    }
   ],
   "source": [
    "dfx = x.arrays_to_dataframe(mystr)\n",
    "print(dfx.count())\n",
    "dfx.show()\n",
    "\n",
    "# [StructField(str,StringType,true)]\n",
    "# ['str']"
   ]
  },
  {
   "cell_type": "markdown",
   "metadata": {},
   "source": [
    "#### with 3 arrays, no names"
   ]
  },
  {
   "cell_type": "code",
   "execution_count": 42,
   "metadata": {},
   "outputs": [
    {
     "name": "stdout",
     "output_type": "stream",
     "text": [
      "<bound method DataFrame.count of DataFrame[str: string, int32: bigint, float64: double]>\n",
      "+--------+-----+------------------+\n",
      "|     str|int32|           float64|\n",
      "+--------+-----+------------------+\n",
      "|cefxiqcn|    2|10.097264868608441|\n",
      "|bwxszvez|    3|10.047342208690743|\n",
      "|swowagsw|    3|  10.0217579179197|\n",
      "|drpitckf|    2|10.037523972627138|\n",
      "|aflesjgh|    3| 10.04964153235769|\n",
      "|nbpkxwwm|    3|10.047689643974916|\n",
      "|tznyvrfs|    1|10.025865611368964|\n",
      "|cxmqoxii|    3|10.041385140901118|\n",
      "|whsfkgxa|    1| 10.05196070605972|\n",
      "|yfuvzfkh|    0|10.016347201082326|\n",
      "|ndktklbv|    4|10.084483302990858|\n",
      "|vrnmtxhr|    0|10.060779046572826|\n",
      "+--------+-----+------------------+\n",
      "\n"
     ]
    }
   ],
   "source": [
    "dfx = x.arrays_to_dataframe([mystr,myint,mydoub])\n",
    "print(dfx.count)\n",
    "dfx.show()\n",
    "\n",
    "# [StructField(str,StringType,true)]\n",
    "# ['str']"
   ]
  },
  {
   "cell_type": "code",
   "execution_count": null,
   "metadata": {
    "collapsed": true
   },
   "outputs": [],
   "source": []
  }
 ],
 "metadata": {
  "kernelspec": {
   "display_name": "Python 3",
   "language": "python",
   "name": "python3"
  },
  "language_info": {
   "codemirror_mode": {
    "name": "ipython",
    "version": 3
   },
   "file_extension": ".py",
   "mimetype": "text/x-python",
   "name": "python",
   "nbconvert_exporter": "python",
   "pygments_lexer": "ipython3",
   "version": "3.6.1"
  }
 },
 "nbformat": 4,
 "nbformat_minor": 2
}
