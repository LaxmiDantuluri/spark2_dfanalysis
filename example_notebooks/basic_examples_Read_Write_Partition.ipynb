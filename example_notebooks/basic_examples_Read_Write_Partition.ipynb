{
 "cells": [
  {
   "cell_type": "markdown",
   "metadata": {},
   "source": [
    "# DataFrame Builder:"
   ]
  },
  {
   "cell_type": "code",
   "execution_count": 1,
   "metadata": {},
   "outputs": [],
   "source": [
    "%load_ext autoreload\n",
    "%autoreload 2\n",
    "\n",
    "# The autoreload extension is already loaded. To reload it, use:\n",
    "#  %reload_ext autoreload"
   ]
  },
  {
   "cell_type": "code",
   "execution_count": 2,
   "metadata": {
    "collapsed": true
   },
   "outputs": [],
   "source": [
    "import os\n",
    "import sys\n",
    "import numpy as np\n",
    "import pandas as pd\n",
    "\n",
    "pd.options.display.float_format = '{:20,.2f}'.format"
   ]
  },
  {
   "cell_type": "code",
   "execution_count": 3,
   "metadata": {},
   "outputs": [
    {
     "name": "stdout",
     "output_type": "stream",
     "text": [
      "3.6.1 |Anaconda 4.4.0 (64-bit)| (default, May 11 2017, 13:25:24) [MSC v.1900 64 bit (AMD64)]\n"
     ]
    }
   ],
   "source": [
    "print(sys.version)"
   ]
  },
  {
   "cell_type": "code",
   "execution_count": 4,
   "metadata": {},
   "outputs": [
    {
     "name": "stdout",
     "output_type": "stream",
     "text": [
      "C:\\ProgramData\\Anaconda3\n"
     ]
    }
   ],
   "source": [
    "print(os.path.dirname(sys.executable))"
   ]
  },
  {
   "cell_type": "code",
   "execution_count": 5,
   "metadata": {
    "collapsed": true
   },
   "outputs": [],
   "source": [
    "# mylib:\n",
    "my_library = os.path.expanduser('~/.myconfigs')\n",
    "my_spark = os.path.expanduser('~/spark2_dfanalysis')\n",
    "sys.path.append(my_library)\n",
    "sys.path.append(my_spark)"
   ]
  },
  {
   "cell_type": "code",
   "execution_count": 6,
   "metadata": {},
   "outputs": [
    {
     "name": "stdout",
     "output_type": "stream",
     "text": [
      "C:\\Users\\d810216/.myconfigs\n",
      "C:\\Users\\d810216/spark2_dfanalysis\n",
      "['.git', '.gitignore', 'example_notebooks', 'LICENSE', 'mydf', 'README.md', 'shared', '__init__.py']\n"
     ]
    }
   ],
   "source": [
    "# print(sys.path)\n",
    "print(my_library)\n",
    "print(my_spark)\n",
    "print(os.listdir(my_spark))"
   ]
  },
  {
   "cell_type": "code",
   "execution_count": 7,
   "metadata": {
    "collapsed": true
   },
   "outputs": [],
   "source": [
    "import pyspark as spark\n",
    "from pyspark.sql import SparkSession\n",
    "from pyspark.sql.types import *\n",
    "from pyspark.sql.functions import *\n",
    "\n",
    "spark = SparkSession.builder.appName('myappname').getOrCreate()"
   ]
  },
  {
   "cell_type": "code",
   "execution_count": 8,
   "metadata": {
    "collapsed": true
   },
   "outputs": [],
   "source": [
    "# print(dir(pyspark))\n",
    "# print(dir(pyspark.sql))\n",
    "# print(dir(pyspark.rdd))"
   ]
  },
  {
   "cell_type": "code",
   "execution_count": 9,
   "metadata": {
    "collapsed": true
   },
   "outputs": [],
   "source": [
    "from shared.app_context import *\n",
    "\n",
    "ctx = ApplicationContext(\"Dev-Job\")"
   ]
  },
  {
   "cell_type": "code",
   "execution_count": 10,
   "metadata": {},
   "outputs": [
    {
     "name": "stdout",
     "output_type": "stream",
     "text": [
      "<pyspark.sql.session.SparkSession object at 0x000001FF58D2F7B8>\n",
      "<pyspark.sql.session.SparkSession object at 0x000001FF58D2F7B8>\n"
     ]
    }
   ],
   "source": [
    "print(spark)\n",
    "print(ctx.spark)\n",
    "# print(dir(ctx.spark))"
   ]
  },
  {
   "cell_type": "code",
   "execution_count": 11,
   "metadata": {
    "collapsed": true
   },
   "outputs": [],
   "source": [
    "# print(sys.path)\n",
    "from mydf.DataFrameBuild import *"
   ]
  },
  {
   "cell_type": "markdown",
   "metadata": {},
   "source": [
    "## ^final import"
   ]
  },
  {
   "cell_type": "code",
   "execution_count": 15,
   "metadata": {
    "collapsed": true
   },
   "outputs": [],
   "source": [
    "X = myDF(ctx.spark)\n",
    "df_multi = X.df_multidimensional(500,6,[('user','string',6),\n",
    "                                         ('id','integer',(1,10000)),\n",
    "                                         ('password','string2',13),\n",
    "                                         ('address','integer',(1000,9999)),\n",
    "                                         ('decimal','double',(0.0,1.0)),\n",
    "                                         ('worth','double',(0.0,10000000))])"
   ]
  },
  {
   "cell_type": "code",
   "execution_count": 16,
   "metadata": {
    "scrolled": true
   },
   "outputs": [
    {
     "name": "stdout",
     "output_type": "stream",
     "text": [
      "+------+----+-------------+-------+-------------------+------------------+\n",
      "|  user|  id|     password|address|            decimal|             worth|\n",
      "+------+----+-------------+-------+-------------------+------------------+\n",
      "|snzhuz| 642|usxyaqivkmgjw|   3390| 0.8819224882633921| 8777458.999829648|\n",
      "|dmnahc|8664|qyasymzzobvdh|   8420| 0.7961823724872933| 8031047.793777364|\n",
      "|rgzznd|7293|fngvowfykvifr|   4408|0.36106855710080954| 9008517.562686618|\n",
      "|bautba|4208|ynprnaxqyumwn|   7480|  0.713110318866887| 9709911.551474435|\n",
      "|jmezbn| 975|qqqhynuwkvzbv|   2100|0.19994215149853467|  6228722.88240373|\n",
      "|cpexhp|5991|iodnnwgqderdp|   2665|   0.75678346462415| 7766450.215648106|\n",
      "|vjtbfk|7241|rkopvyjxbhxrr|   6538| 0.9282968610847209| 9580172.647123791|\n",
      "|rdotdb|5852|zpdnqspqizrhg|   3193|0.04781640780018903| 6184437.420709565|\n",
      "|wctcpq|8865|yquowdyhmfrft|   2179|0.14853275219600437| 9908413.719047382|\n",
      "|qelnof|2207|kjlkacakcasci|   2646| 0.5368240535024573|3437658.1899176193|\n",
      "|jdujsf|4393|iyvqdbnhfnoji|   2426|0.43401323773494827|1132375.0052535287|\n",
      "|wzfpuh|5593|sjeeultglvsfl|   9881|0.40152968147342694|1455515.9918495864|\n",
      "|qgaqxy|4748|navdkdjxzoxbh|   1388| 0.7976874625424802|183540.39678962098|\n",
      "|qgdlaj|9343|jzpzjeepbkake|   5142| 0.6675305021600859| 8387387.450793502|\n",
      "|vpsilj|9214|gbrxuvzjyxgpr|   5874| 0.1832713745129051|1276093.0733061559|\n",
      "|dbogam|7699|hokimviaxkvbl|   8385| 0.1228964286591453| 666766.4378442273|\n",
      "|jhjigq|8112|jqqtsfsimdrmj|   6873|  0.835936045777688| 5082302.618269326|\n",
      "|screnf|3084|wypcuuhwufsqf|   6471| 0.4685523653592846|4843280.3955503255|\n",
      "|yfycix| 437|lkzpzyqtvxjtf|   7914| 0.3079142337473798|4175431.2312217145|\n",
      "|grklsr| 668|hyayjcytntlgx|   4828|0.19015213661688346|1109764.0403447284|\n",
      "+------+----+-------------+-------+-------------------+------------------+\n",
      "only showing top 20 rows\n",
      "\n"
     ]
    }
   ],
   "source": [
    "df_multi.show()"
   ]
  },
  {
   "cell_type": "code",
   "execution_count": null,
   "metadata": {
    "collapsed": true
   },
   "outputs": [],
   "source": []
  },
  {
   "cell_type": "code",
   "execution_count": null,
   "metadata": {
    "collapsed": true
   },
   "outputs": [],
   "source": []
  },
  {
   "cell_type": "code",
   "execution_count": null,
   "metadata": {
    "collapsed": true
   },
   "outputs": [],
   "source": []
  }
 ],
 "metadata": {
  "kernelspec": {
   "display_name": "Python 3",
   "language": "python",
   "name": "python3"
  },
  "language_info": {
   "codemirror_mode": {
    "name": "ipython",
    "version": 3
   },
   "file_extension": ".py",
   "mimetype": "text/x-python",
   "name": "python",
   "nbconvert_exporter": "python",
   "pygments_lexer": "ipython3",
   "version": "3.6.1"
  }
 },
 "nbformat": 4,
 "nbformat_minor": 2
}
