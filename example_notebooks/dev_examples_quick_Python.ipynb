{
 "cells": [
  {
   "cell_type": "markdown",
   "metadata": {},
   "source": [
    "# Standard Configs"
   ]
  },
  {
   "cell_type": "markdown",
   "metadata": {},
   "source": [
    "## Python"
   ]
  },
  {
   "cell_type": "code",
   "execution_count": 6,
   "metadata": {
    "collapsed": true
   },
   "outputs": [],
   "source": [
    "# Python libraries:\n",
    "import os\n",
    "import sys\n",
    "from dateutil import parser\n",
    "import datetime\n",
    "import builtins\n",
    "import json\n",
    "import functools\n",
    "import operator\n",
    "import re\n",
    "from itertools import product"
   ]
  },
  {
   "cell_type": "markdown",
   "metadata": {},
   "source": [
    "## Numpy or Pandas"
   ]
  },
  {
   "cell_type": "code",
   "execution_count": 7,
   "metadata": {
    "collapsed": true
   },
   "outputs": [],
   "source": [
    "import numpy as np\n",
    "import pandas as pd\n",
    "pd.options.display.float_format = '{:20,.2f}'.format"
   ]
  },
  {
   "cell_type": "code",
   "execution_count": 8,
   "metadata": {
    "collapsed": true
   },
   "outputs": [],
   "source": [
    "lst_dates = sorted([str(x) for x in range(1980,2021,1)],reverse=True)"
   ]
  },
  {
   "cell_type": "code",
   "execution_count": 9,
   "metadata": {},
   "outputs": [
    {
     "name": "stdout",
     "output_type": "stream",
     "text": [
      "['2020', '2019', '2018', '2017', '2016', '2015', '2014', '2013', '2012', '2011', '2010', '2009', '2008', '2007', '2006', '2005', '2004', '2003', '2002', '2001', '2000', '1999', '1998', '1997', '1996', '1995', '1994', '1993', '1992', '1991', '1990', '1989', '1988', '1987', '1986', '1985', '1984', '1983', '1982', '1981', '1980']\n",
      "41\n"
     ]
    }
   ],
   "source": [
    "print(lst_dates)\n",
    "print(len(lst_dates))"
   ]
  },
  {
   "cell_type": "code",
   "execution_count": 10,
   "metadata": {},
   "outputs": [
    {
     "name": "stdout",
     "output_type": "stream",
     "text": [
      "['2020', '2019', '2018', '2017', '2016', '2015', '2014', '2013', '2012', '2011', '2010', '2009', '2008', '2007', '2006', '2005', '2004', '2003', '2002', '2001', '2000', '1999', '1998', '1997', '1996', '1995', '1994', '1993', '1992', '1991', '1990', '1989', '1988', '1987', '1986', '1985', '1984', '1983', '1982', '1981', '1980'] \n",
      "\n",
      "['2020', '2019', '2018', '2017', '2016', '2015', '2014', '2013', '2012', '2011'] \n",
      "\n"
     ]
    }
   ],
   "source": [
    "print(lst_dates,\"\\n\")\n",
    "print(lst_dates[0:10],\"\\n\")"
   ]
  },
  {
   "cell_type": "code",
   "execution_count": 11,
   "metadata": {
    "collapsed": true
   },
   "outputs": [],
   "source": [
    "# between 20180602 and 20180704\n",
    "# between 1994 and 1998\n",
    "\n",
    "lst_dates_short = [x for x in lst_dates if((x <= '1998') and (x >= '1994'))]"
   ]
  },
  {
   "cell_type": "code",
   "execution_count": 12,
   "metadata": {},
   "outputs": [
    {
     "name": "stdout",
     "output_type": "stream",
     "text": [
      "1998\n",
      "/data/src/prod/krg_prd_item_1998\n",
      "1997\n",
      "/data/src/prod/krg_prd_item_1997\n",
      "1996\n",
      "/data/src/prod/krg_prd_item_1996\n",
      "1995\n",
      "/data/src/prod/krg_prd_item_1995\n",
      "1994\n",
      "/data/src/prod/krg_prd_item_1994\n"
     ]
    }
   ],
   "source": [
    "path = \"/data/src/prod/\"\n",
    "krg = \"krg_prd_item_\"\n",
    "\n",
    "for x in lst_dates_short:\n",
    "    print(x)\n",
    "    file_read = os.path.join(path,krg + x)\n",
    "    print(file_read)\n",
    "    "
   ]
  },
  {
   "cell_type": "code",
   "execution_count": null,
   "metadata": {
    "collapsed": true
   },
   "outputs": [],
   "source": []
  },
  {
   "cell_type": "code",
   "execution_count": null,
   "metadata": {
    "collapsed": true
   },
   "outputs": [],
   "source": []
  },
  {
   "cell_type": "code",
   "execution_count": null,
   "metadata": {
    "collapsed": true
   },
   "outputs": [],
   "source": []
  },
  {
   "cell_type": "code",
   "execution_count": 100,
   "metadata": {},
   "outputs": [
    {
     "name": "stdout",
     "output_type": "stream",
     "text": [
      "14\n",
      "[9 4 9 ... 8 4 1]\n",
      "avg: 7.491666666666666\n",
      "stddev: 4.0520822493571815\n"
     ]
    }
   ],
   "source": [
    "import random\n",
    "import numpy as np\n",
    "\n",
    "# if I'm in a list of 14 people, what is my average selected position? \n",
    "names = ['Sarah','Billy','John','Dale','Jessica','Lauren','Adam','Sam','Emily','Alexander','Ben','Adrienne','Amber','Lisa']\n",
    "\n",
    "print(len(names))\n",
    "choose = lambda x: random.choice(x)\n",
    "\n",
    "#print(choose(names))\n",
    "\n",
    "lst_counts = []\n",
    "\n",
    "def find_him(lst,winner):\n",
    "    count = 0\n",
    "    #print(count,len(lst))\n",
    "    name = choose(lst)\n",
    "    while name != winner:\n",
    "        lst.remove(name)\n",
    "        #print(name)\n",
    "        #print(len(lst))\n",
    "        name = choose(lst)\n",
    "        count += 1\n",
    "    return count+1\n",
    "\n",
    "\n",
    "for i in range(75000):\n",
    "    sample_list = names.copy()\n",
    "    count = find_him(sample_list,'Dale')\n",
    "    lst_counts.append(count)\n",
    "\n",
    "arr_counts = np.array(lst_counts)\n",
    "\n",
    "print(arr_counts)\n",
    "print('avg:',np.mean(arr_counts))\n",
    "print('stddev:',np.std(arr_counts))\n"
   ]
  },
  {
   "cell_type": "code",
   "execution_count": null,
   "metadata": {
    "collapsed": true
   },
   "outputs": [],
   "source": []
  }
 ],
 "metadata": {
  "kernelspec": {
   "display_name": "Python 3",
   "language": "python",
   "name": "python3"
  },
  "language_info": {
   "codemirror_mode": {
    "name": "ipython",
    "version": 3
   },
   "file_extension": ".py",
   "mimetype": "text/x-python",
   "name": "python",
   "nbconvert_exporter": "python",
   "pygments_lexer": "ipython3",
   "version": "3.6.1"
  }
 },
 "nbformat": 4,
 "nbformat_minor": 2
}
