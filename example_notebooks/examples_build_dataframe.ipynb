{
 "cells": [
  {
   "cell_type": "markdown",
   "metadata": {},
   "source": [
    "# DataFrame Builder:"
   ]
  },
  {
   "cell_type": "code",
   "execution_count": 29,
   "metadata": {
    "collapsed": true
   },
   "outputs": [],
   "source": [
    "import os\n",
    "import sys\n",
    "import numpy as np\n",
    "import pandas as pd\n",
    "\n",
    "pd.options.display.float_format = '{:8,.2f}'.format"
   ]
  },
  {
   "cell_type": "code",
   "execution_count": 2,
   "metadata": {
    "collapsed": true
   },
   "outputs": [],
   "source": [
    "# mylib:\n",
    "my_library = os.path.expanduser('~/.myconfigs')\n",
    "my_spark = os.path.expanduser('~/spark2_dfanalysis')\n",
    "sys.path.append(my_library)\n",
    "sys.path.append(my_spark)"
   ]
  },
  {
   "cell_type": "code",
   "execution_count": 3,
   "metadata": {
    "collapsed": true
   },
   "outputs": [],
   "source": [
    "import pyspark as spark\n",
    "from pyspark.sql import SparkSession\n",
    "from pyspark.sql.types import *\n",
    "from pyspark.sql.functions import *\n",
    "\n",
    "# spark = SparkSession.builder.appName('myappname').getOrCreate()\n",
    "# print(spark)"
   ]
  },
  {
   "cell_type": "code",
   "execution_count": 4,
   "metadata": {
    "collapsed": true
   },
   "outputs": [],
   "source": [
    "# print(dir(pyspark))\n",
    "# print(dir(pyspark.sql))\n",
    "# print(dir(pyspark.rdd))"
   ]
  },
  {
   "cell_type": "code",
   "execution_count": 5,
   "metadata": {},
   "outputs": [
    {
     "name": "stdout",
     "output_type": "stream",
     "text": [
      "<pyspark.sql.session.SparkSession object at 0x00000258EC00FEF0>\n"
     ]
    }
   ],
   "source": [
    "from shared.app_context import *\n",
    "\n",
    "ctx = ApplicationContext(\"Dev-Job\")\n",
    "print(ctx.spark)"
   ]
  },
  {
   "cell_type": "code",
   "execution_count": 6,
   "metadata": {
    "collapsed": true
   },
   "outputs": [],
   "source": [
    "# print(sys.path)\n",
    "from builder.DataFrameBuild import *"
   ]
  },
  {
   "cell_type": "markdown",
   "metadata": {},
   "source": [
    "## DataFrameBuild Class:\n",
    "### x = DataFrameBuild(ctx.spark)"
   ]
  },
  {
   "cell_type": "code",
   "execution_count": 7,
   "metadata": {
    "collapsed": true
   },
   "outputs": [],
   "source": [
    "x = DataFrameBuild(ctx.spark)"
   ]
  },
  {
   "cell_type": "markdown",
   "metadata": {},
   "source": [
    "### build_array function"
   ]
  },
  {
   "cell_type": "code",
   "execution_count": 8,
   "metadata": {},
   "outputs": [
    {
     "name": "stdout",
     "output_type": "stream",
     "text": [
      "12 ['opeizyzr', 'attpzusd', 'quvokdqv', 'wxmouazi', 'dmkeherw', 'ehlkthcc', 'wnvrknzf', 'fldkrdji', 'nmplkbti', 'bnitphox', 'cxyaeaow', 'phhovscg']\n",
      "12 [4 4 4 1 3 0 4 1 4 4 1 0]\n",
      "12 [10.05958403 10.04038789 10.02415255 10.03016893 10.09653555 10.06439566\n",
      " 10.05368564 10.09777727 10.03880275 10.03040578 10.01831231 10.09674956]\n"
     ]
    }
   ],
   "source": [
    "mystr = x.build_array(\"string\",num=12,width=8) \n",
    "myint = x.build_array(\"integer\",num=12,nrange=(0,4))    # inclusive on range\n",
    "mydoub = x.build_array(\"double\",num=12,nrange=(10,10.1))\n",
    "\n",
    "print(len(mystr),mystr)\n",
    "print(len(myint),myint)\n",
    "print(len(mydoub),mydoub)"
   ]
  },
  {
   "cell_type": "markdown",
   "metadata": {},
   "source": [
    "### Ex1. Combine arrays, lists into DataFrame."
   ]
  },
  {
   "cell_type": "code",
   "execution_count": 10,
   "metadata": {
    "collapsed": true
   },
   "outputs": [],
   "source": [
    "x = DataFrameBuild(ctx.spark)\n",
    "num = 500\n",
    "df4 = x.arrays_to_dataframe([x.build_array(\"string\",num=num,width=8),\n",
    "                        x.build_array(\"integer\",num=num,nrange=(1,4)),\n",
    "                        x.build_array(\"integer\",num=num,nrange=(1,12)),\n",
    "                        x.build_array(\"double\",num=num,nrange=(0.0,10000))],\n",
    "                      ['passwords','quarter','month','price'])"
   ]
  },
  {
   "cell_type": "code",
   "execution_count": 11,
   "metadata": {},
   "outputs": [
    {
     "data": {
      "text/html": [
       "<div>\n",
       "<style scoped>\n",
       "    .dataframe tbody tr th:only-of-type {\n",
       "        vertical-align: middle;\n",
       "    }\n",
       "\n",
       "    .dataframe tbody tr th {\n",
       "        vertical-align: top;\n",
       "    }\n",
       "\n",
       "    .dataframe thead th {\n",
       "        text-align: right;\n",
       "    }\n",
       "</style>\n",
       "<table border=\"1\" class=\"dataframe\">\n",
       "  <thead>\n",
       "    <tr style=\"text-align: right;\">\n",
       "      <th></th>\n",
       "      <th>passwords</th>\n",
       "      <th>quarter</th>\n",
       "      <th>month</th>\n",
       "      <th>price</th>\n",
       "    </tr>\n",
       "  </thead>\n",
       "  <tbody>\n",
       "    <tr>\n",
       "      <th>0</th>\n",
       "      <td>xdjmhvdv</td>\n",
       "      <td>3</td>\n",
       "      <td>7</td>\n",
       "      <td>512.07</td>\n",
       "    </tr>\n",
       "    <tr>\n",
       "      <th>1</th>\n",
       "      <td>hdttuclf</td>\n",
       "      <td>1</td>\n",
       "      <td>2</td>\n",
       "      <td>9,135.76</td>\n",
       "    </tr>\n",
       "    <tr>\n",
       "      <th>2</th>\n",
       "      <td>fqxfoius</td>\n",
       "      <td>3</td>\n",
       "      <td>2</td>\n",
       "      <td>2,469.62</td>\n",
       "    </tr>\n",
       "    <tr>\n",
       "      <th>3</th>\n",
       "      <td>srsvkoaj</td>\n",
       "      <td>4</td>\n",
       "      <td>11</td>\n",
       "      <td>2,648.54</td>\n",
       "    </tr>\n",
       "    <tr>\n",
       "      <th>4</th>\n",
       "      <td>jtqpjbuh</td>\n",
       "      <td>3</td>\n",
       "      <td>11</td>\n",
       "      <td>3,399.43</td>\n",
       "    </tr>\n",
       "    <tr>\n",
       "      <th>5</th>\n",
       "      <td>sfgvcmph</td>\n",
       "      <td>2</td>\n",
       "      <td>4</td>\n",
       "      <td>8,059.82</td>\n",
       "    </tr>\n",
       "    <tr>\n",
       "      <th>6</th>\n",
       "      <td>ktyhaltn</td>\n",
       "      <td>1</td>\n",
       "      <td>4</td>\n",
       "      <td>6,793.42</td>\n",
       "    </tr>\n",
       "    <tr>\n",
       "      <th>7</th>\n",
       "      <td>oqvsrbjf</td>\n",
       "      <td>4</td>\n",
       "      <td>2</td>\n",
       "      <td>6,056.37</td>\n",
       "    </tr>\n",
       "    <tr>\n",
       "      <th>8</th>\n",
       "      <td>yomocvlg</td>\n",
       "      <td>1</td>\n",
       "      <td>12</td>\n",
       "      <td>8,122.58</td>\n",
       "    </tr>\n",
       "    <tr>\n",
       "      <th>9</th>\n",
       "      <td>mmeiyrcn</td>\n",
       "      <td>1</td>\n",
       "      <td>2</td>\n",
       "      <td>7,984.30</td>\n",
       "    </tr>\n",
       "  </tbody>\n",
       "</table>\n",
       "</div>"
      ],
      "text/plain": [
       "  passwords  quarter  month                price\n",
       "0  xdjmhvdv        3      7               512.07\n",
       "1  hdttuclf        1      2             9,135.76\n",
       "2  fqxfoius        3      2             2,469.62\n",
       "3  srsvkoaj        4     11             2,648.54\n",
       "4  jtqpjbuh        3     11             3,399.43\n",
       "5  sfgvcmph        2      4             8,059.82\n",
       "6  ktyhaltn        1      4             6,793.42\n",
       "7  oqvsrbjf        4      2             6,056.37\n",
       "8  yomocvlg        1     12             8,122.58\n",
       "9  mmeiyrcn        1      2             7,984.30"
      ]
     },
     "execution_count": 11,
     "metadata": {},
     "output_type": "execute_result"
    }
   ],
   "source": [
    "df4.limit(10).toPandas()"
   ]
  },
  {
   "cell_type": "markdown",
   "metadata": {},
   "source": [
    "### Ex2. Combine arrays, lists into DataFrame."
   ]
  },
  {
   "cell_type": "code",
   "execution_count": 12,
   "metadata": {
    "collapsed": true
   },
   "outputs": [],
   "source": [
    "x = DataFrameBuild(ctx.spark)\n",
    "num = 500\n",
    "df4 = x.arrays_to_dataframe([[int(x) for x in np.linspace(1,num,num)],\n",
    "                             x.build_array(\"string\",num=num,width=8),\n",
    "                             x.build_array(\"integer\",num=num,nrange=(1,4)),\n",
    "                             x.build_array(\"integer\",num=num,nrange=(1,12)),\n",
    "                             x.build_array(\"double\",num=num,nrange=(0.0,10000))],\n",
    "                             ['index','passwords','quarter','month','price'])"
   ]
  },
  {
   "cell_type": "code",
   "execution_count": 13,
   "metadata": {},
   "outputs": [
    {
     "name": "stdout",
     "output_type": "stream",
     "text": [
      "+-----+---------+-------+-----+------------------+\n",
      "|index|passwords|quarter|month|             price|\n",
      "+-----+---------+-------+-----+------------------+\n",
      "|    1| cyztyrko|      4|    5|314.34591154064105|\n",
      "|    2| dnjjnmog|      3|   12|2539.7816194662882|\n",
      "|    3| zoxkrvlh|      2|   12| 9801.939184016917|\n",
      "|    4| cvijsyye|      4|    9| 3677.520232671988|\n",
      "|    5| okdhgred|      4|   12|276.09900447780444|\n",
      "|    6| hmlpmbee|      2|   10| 9536.927951560743|\n",
      "|    7| tyegbebb|      3|    9| 9286.739083559703|\n",
      "|    8| mgifqqyk|      2|    6|1187.9236726452248|\n",
      "|    9| ifapfcib|      1|    1| 7746.014392663392|\n",
      "|   10| vgsirpgx|      3|    4|2773.1656526600714|\n",
      "|   11| xwgwkcds|      3|   11|1219.0549284092378|\n",
      "|   12| vipkcbag|      4|   10| 9677.401001532802|\n",
      "|   13| cssmcddg|      1|   12|3563.4784574583246|\n",
      "|   14| cujfjyra|      2|    1| 9453.952312881494|\n",
      "|   15| rjgzczvx|      1|    3| 2465.080085638733|\n",
      "|   16| qwxtfcwm|      1|   11| 4954.020688559832|\n",
      "|   17| cdfsadig|      3|    7|1214.5917421422926|\n",
      "|   18| lgjewlrl|      2|    6|2974.4855933850877|\n",
      "|   19| bvqrhjal|      1|    2|1466.1082734462505|\n",
      "|   20| bgxiuoje|      3|   11|   8283.2056321973|\n",
      "+-----+---------+-------+-----+------------------+\n",
      "only showing top 20 rows\n",
      "\n"
     ]
    }
   ],
   "source": [
    "df4.show()"
   ]
  },
  {
   "cell_type": "code",
   "execution_count": 14,
   "metadata": {},
   "outputs": [
    {
     "name": "stdout",
     "output_type": "stream",
     "text": [
      "+-----+---------+-------+-----+------------------+\n",
      "|index|passwords|quarter|month|             price|\n",
      "+-----+---------+-------+-----+------------------+\n",
      "|    1| cyztyrko|      4|    5|314.34591154064105|\n",
      "|    2| dnjjnmog|      3|   12|2539.7816194662882|\n",
      "|    3| zoxkrvlh|      2|   12| 9801.939184016917|\n",
      "|    4| cvijsyye|      4|    9| 3677.520232671988|\n",
      "|    5| okdhgred|      4|   12|276.09900447780444|\n",
      "|    6| hmlpmbee|      2|   10| 9536.927951560743|\n",
      "|    7| tyegbebb|      3|    9| 9286.739083559703|\n",
      "|    8| mgifqqyk|      2|    6|1187.9236726452248|\n",
      "|    9| ifapfcib|      1|    1| 7746.014392663392|\n",
      "|   10| vgsirpgx|      3|    4|2773.1656526600714|\n",
      "|   11| xwgwkcds|      3|   11|1219.0549284092378|\n",
      "|   12| vipkcbag|      4|   10| 9677.401001532802|\n",
      "|   13| cssmcddg|      1|   12|3563.4784574583246|\n",
      "|   14| cujfjyra|      2|    1| 9453.952312881494|\n",
      "|   15| rjgzczvx|      1|    3| 2465.080085638733|\n",
      "|   16| qwxtfcwm|      1|   11| 4954.020688559832|\n",
      "|   17| cdfsadig|      3|    7|1214.5917421422926|\n",
      "|   18| lgjewlrl|      2|    6|2974.4855933850877|\n",
      "|   19| bvqrhjal|      1|    2|1466.1082734462505|\n",
      "|   20| bgxiuoje|      3|   11|   8283.2056321973|\n",
      "+-----+---------+-------+-----+------------------+\n",
      "only showing top 20 rows\n",
      "\n"
     ]
    }
   ],
   "source": [
    "df4.orderBy(\"index\").show()"
   ]
  },
  {
   "cell_type": "code",
   "execution_count": 84,
   "metadata": {},
   "outputs": [
    {
     "data": {
      "text/plain": [
       "500"
      ]
     },
     "execution_count": 84,
     "metadata": {},
     "output_type": "execute_result"
    }
   ],
   "source": [
    "df4.select(\"index\").distinct().count()"
   ]
  },
  {
   "cell_type": "markdown",
   "metadata": {},
   "source": [
    "### Ex3. Combine arrays, lists into DataFrame."
   ]
  },
  {
   "cell_type": "code",
   "execution_count": 30,
   "metadata": {
    "collapsed": true
   },
   "outputs": [],
   "source": [
    "x = DataFrameBuild(ctx.spark)\n",
    "num = 5000\n",
    "lst_cars = [random.choice(['Honda','Toyota','Chevy','Ford','Tesla','Volkswagon','Hyundai','Jeep']) for x in range(num)]\n",
    "df4 = x.arrays_to_dataframe([[int(x) for x in np.linspace(1,num,num)],\n",
    "                             x.build_array(\"string\",num=num,width=8),\n",
    "                             x.build_array(\"integer\",num=num,nrange=(1,4)),\n",
    "                             x.build_array(\"integer\",num=num,nrange=(1,12)),\n",
    "                             x.build_array(\"double\",num=num,nrange=(0.0,50000)),\n",
    "                             lst_cars],\n",
    "                             ['index','passwords','quarter','month','price','cars'])"
   ]
  },
  {
   "cell_type": "code",
   "execution_count": 31,
   "metadata": {},
   "outputs": [
    {
     "name": "stdout",
     "output_type": "stream",
     "text": [
      "+-----+---------+-------+-----+------------------+----------+\n",
      "|index|passwords|quarter|month|             price|      cars|\n",
      "+-----+---------+-------+-----+------------------+----------+\n",
      "|    1| upaiogwd|      2|    1|31834.913179518964|Volkswagon|\n",
      "|    2| aofdlaoj|      3|    4| 46222.26741716476|     Chevy|\n",
      "|    3| rqbugoax|      4|    9| 5729.822129404549|      Ford|\n",
      "|    4| vctpzwfm|      2|    9| 540.3028094369378|     Chevy|\n",
      "|    5| pxumxlyj|      2|    1|23723.352432642987|    Toyota|\n",
      "|    6| mrdrttae|      2|    4|15590.222872908716|     Honda|\n",
      "|    7| ykyretny|      2|    5| 49120.26087935749|      Ford|\n",
      "|    8| fetqaacg|      1|    9| 3148.676126666838|Volkswagon|\n",
      "|    9| buqokjjj|      1|    2| 7208.513561178865|     Chevy|\n",
      "|   10| awgyxjrm|      2|   11|49425.871056957985|     Tesla|\n",
      "|   11| esvezafb|      1|    4| 4487.474654253665|    Toyota|\n",
      "|   12| gglnloij|      4|    2| 41794.59162045686|     Chevy|\n",
      "|   13| idtpxsgc|      3|   12| 8166.171991164645|Volkswagon|\n",
      "|   14| mmvymhca|      4|    3| 32549.64136676255|     Honda|\n",
      "|   15| pveivpvm|      2|    3|32489.369501637226|   Hyundai|\n",
      "|   16| reuohrwk|      3|    8|22577.965728931104|Volkswagon|\n",
      "|   17| dizhchqr|      1|   11| 29902.95464747582|     Honda|\n",
      "|   18| xobpyobk|      4|   11|13423.712903418367|      Jeep|\n",
      "|   19| hyaipjxd|      4|   12| 8819.353651764279|    Toyota|\n",
      "|   20| kgcowpfn|      2|    8|44391.685527307636|     Chevy|\n",
      "+-----+---------+-------+-----+------------------+----------+\n",
      "only showing top 20 rows\n",
      "\n"
     ]
    }
   ],
   "source": [
    "df4.show(20)"
   ]
  },
  {
   "cell_type": "code",
   "execution_count": 32,
   "metadata": {},
   "outputs": [
    {
     "data": {
      "text/plain": [
       "5000"
      ]
     },
     "execution_count": 32,
     "metadata": {},
     "output_type": "execute_result"
    }
   ],
   "source": [
    "df4.count() "
   ]
  },
  {
   "cell_type": "markdown",
   "metadata": {},
   "source": [
    "### Create DataFrames"
   ]
  },
  {
   "cell_type": "markdown",
   "metadata": {},
   "source": [
    "#### with a list of list of strings, and list of string of length 1"
   ]
  },
  {
   "cell_type": "code",
   "execution_count": 77,
   "metadata": {},
   "outputs": [
    {
     "name": "stdout",
     "output_type": "stream",
     "text": [
      "check:\n",
      "[['qvfdlpks', 'vpyviyux', 'ypqyinsl', 'rigvlcog', 'qngoiobg', 'zurnglnj', 'hsuemdkh', 'vlfalaxs', 'hsmjolqj', 'uhvkberg', 'ladwcapa', 'qrbkjsql']] 1\n",
      "['random_letters']\n",
      "12\n",
      "+--------------+\n",
      "|random_letters|\n",
      "+--------------+\n",
      "|      qvfdlpks|\n",
      "|      vpyviyux|\n",
      "|      ypqyinsl|\n",
      "|      rigvlcog|\n",
      "|      qngoiobg|\n",
      "|      zurnglnj|\n",
      "|      hsuemdkh|\n",
      "|      vlfalaxs|\n",
      "|      hsmjolqj|\n",
      "|      uhvkberg|\n",
      "|      ladwcapa|\n",
      "|      qrbkjsql|\n",
      "+--------------+\n",
      "\n"
     ]
    }
   ],
   "source": [
    "dfx = x.arrays_to_dataframe([mystr],['random_letters'])\n",
    "print(dfx.count())\n",
    "dfx.show()\n",
    "\n",
    "# [StructField(str,StringType,true)]\n",
    "# ['str']"
   ]
  },
  {
   "cell_type": "markdown",
   "metadata": {},
   "source": [
    "#### with a list of list of strings, and a string"
   ]
  },
  {
   "cell_type": "code",
   "execution_count": 87,
   "metadata": {},
   "outputs": [
    {
     "name": "stdout",
     "output_type": "stream",
     "text": [
      "Levels:\n",
      "list list\n",
      "[['qvfdlpks', 'vpyviyux', 'ypqyinsl', 'rigvlcog', 'qngoiobg', 'zurnglnj', 'hsuemdkh', 'vlfalaxs', 'hsmjolqj', 'uhvkberg', 'ladwcapa', 'qrbkjsql']]\n",
      "check:\n",
      "[['qvfdlpks', 'vpyviyux', 'ypqyinsl', 'rigvlcog', 'qngoiobg', 'zurnglnj', 'hsuemdkh', 'vlfalaxs', 'hsmjolqj', 'uhvkberg', 'ladwcapa', 'qrbkjsql']] 1\n",
      "['random_letters']\n",
      "12\n",
      "+--------------+\n",
      "|random_letters|\n",
      "+--------------+\n",
      "|      qvfdlpks|\n",
      "|      vpyviyux|\n",
      "|      ypqyinsl|\n",
      "|      rigvlcog|\n",
      "|      qngoiobg|\n",
      "|      zurnglnj|\n",
      "|      hsuemdkh|\n",
      "|      vlfalaxs|\n",
      "|      hsmjolqj|\n",
      "|      uhvkberg|\n",
      "|      ladwcapa|\n",
      "|      qrbkjsql|\n",
      "+--------------+\n",
      "\n"
     ]
    }
   ],
   "source": [
    "dfx = x.arrays_to_dataframe([mystr],'random_letters')\n",
    "print(dfx.count())\n",
    "dfx.show()\n",
    "\n",
    "# [StructField(str,StringType,true)]\n",
    "# ['str']"
   ]
  },
  {
   "cell_type": "markdown",
   "metadata": {},
   "source": [
    "#### with lists of length 2"
   ]
  },
  {
   "cell_type": "code",
   "execution_count": 89,
   "metadata": {},
   "outputs": [
    {
     "name": "stdout",
     "output_type": "stream",
     "text": [
      "[3 1 3 1 0 3 4 1 2 1 0 3]\n",
      "['qvfdlpks', 'vpyviyux', 'ypqyinsl', 'rigvlcog', 'qngoiobg', 'zurnglnj', 'hsuemdkh', 'vlfalaxs', 'hsmjolqj', 'uhvkberg', 'ladwcapa', 'qrbkjsql']\n",
      "Levels:\n",
      "list ndarray\n",
      "[array([3, 1, 3, 1, 0, 3, 4, 1, 2, 1, 0, 3]), ['qvfdlpks', 'vpyviyux', 'ypqyinsl', 'rigvlcog', 'qngoiobg', 'zurnglnj', 'hsuemdkh', 'vlfalaxs', 'hsmjolqj', 'uhvkberg', 'ladwcapa', 'qrbkjsql']]\n",
      "check:\n",
      "[array([3, 1, 3, 1, 0, 3, 4, 1, 2, 1, 0, 3]), ['qvfdlpks', 'vpyviyux', 'ypqyinsl', 'rigvlcog', 'qngoiobg', 'zurnglnj', 'hsuemdkh', 'vlfalaxs', 'hsmjolqj', 'uhvkberg', 'ladwcapa', 'qrbkjsql']] 2\n",
      "['random_ints', 'random_letters']\n",
      "12\n",
      "+-----------+--------------+\n",
      "|random_ints|random_letters|\n",
      "+-----------+--------------+\n",
      "|          3|      qvfdlpks|\n",
      "|          1|      vpyviyux|\n",
      "|          3|      ypqyinsl|\n",
      "|          1|      rigvlcog|\n",
      "|          0|      qngoiobg|\n",
      "|          3|      zurnglnj|\n",
      "|          4|      hsuemdkh|\n",
      "|          1|      vlfalaxs|\n",
      "|          2|      hsmjolqj|\n",
      "|          1|      uhvkberg|\n",
      "|          0|      ladwcapa|\n",
      "|          3|      qrbkjsql|\n",
      "+-----------+--------------+\n",
      "\n"
     ]
    }
   ],
   "source": [
    "print(myint)\n",
    "print(mystr)\n",
    "dfx = x.arrays_to_dataframe([myint,mystr],['random_ints','random_letters'])\n",
    "print(dfx.count())\n",
    "dfx.show()\n",
    "\n",
    "# [StructField(str,StringType,true)]\n",
    "# ['str']"
   ]
  },
  {
   "cell_type": "markdown",
   "metadata": {},
   "source": [
    "#### with a list and a string"
   ]
  },
  {
   "cell_type": "code",
   "execution_count": 90,
   "metadata": {},
   "outputs": [
    {
     "name": "stdout",
     "output_type": "stream",
     "text": [
      "Levels:\n",
      "list str\n",
      "[['qvfdlpks', 'vpyviyux', 'ypqyinsl', 'rigvlcog', 'qngoiobg', 'zurnglnj', 'hsuemdkh', 'vlfalaxs', 'hsmjolqj', 'uhvkberg', 'ladwcapa', 'qrbkjsql']]\n",
      "check:\n",
      "[['qvfdlpks', 'vpyviyux', 'ypqyinsl', 'rigvlcog', 'qngoiobg', 'zurnglnj', 'hsuemdkh', 'vlfalaxs', 'hsmjolqj', 'uhvkberg', 'ladwcapa', 'qrbkjsql']] 1\n",
      "['crazy_strings']\n",
      "12\n",
      "+-------------+\n",
      "|crazy_strings|\n",
      "+-------------+\n",
      "|     qvfdlpks|\n",
      "|     vpyviyux|\n",
      "|     ypqyinsl|\n",
      "|     rigvlcog|\n",
      "|     qngoiobg|\n",
      "|     zurnglnj|\n",
      "|     hsuemdkh|\n",
      "|     vlfalaxs|\n",
      "|     hsmjolqj|\n",
      "|     uhvkberg|\n",
      "|     ladwcapa|\n",
      "|     qrbkjsql|\n",
      "+-------------+\n",
      "\n"
     ]
    }
   ],
   "source": [
    "dfx = x.arrays_to_dataframe(mystr,'crazy_strings')\n",
    "print(dfx.count())\n",
    "dfx.show()\n",
    "\n",
    "# [StructField(str,StringType,true)]\n",
    "# ['str']"
   ]
  },
  {
   "cell_type": "markdown",
   "metadata": {},
   "source": [
    "#### with an array and a string"
   ]
  },
  {
   "cell_type": "code",
   "execution_count": 91,
   "metadata": {},
   "outputs": [
    {
     "name": "stdout",
     "output_type": "stream",
     "text": [
      "Levels:\n",
      "ndarray None\n",
      "[array([ 0.,  1.,  2.,  3.,  4.,  5.,  6.,  7.,  8.,  9., 10., 11., 12.,\n",
      "       13., 14., 15., 16., 17., 18., 19., 20., 21., 22., 23., 24., 25.,\n",
      "       26., 27., 28., 29., 30.])]\n",
      "check:\n",
      "[array([ 0.,  1.,  2.,  3.,  4.,  5.,  6.,  7.,  8.,  9., 10., 11., 12.,\n",
      "       13., 14., 15., 16., 17., 18., 19., 20., 21., 22., 23., 24., 25.,\n",
      "       26., 27., 28., 29., 30.])] 1\n",
      "['integers']\n",
      "31\n",
      "+--------+\n",
      "|integers|\n",
      "+--------+\n",
      "|     0.0|\n",
      "|     1.0|\n",
      "|     2.0|\n",
      "|     3.0|\n",
      "|     4.0|\n",
      "|     5.0|\n",
      "|     6.0|\n",
      "|     7.0|\n",
      "|     8.0|\n",
      "|     9.0|\n",
      "|    10.0|\n",
      "|    11.0|\n",
      "|    12.0|\n",
      "|    13.0|\n",
      "|    14.0|\n",
      "|    15.0|\n",
      "|    16.0|\n",
      "|    17.0|\n",
      "|    18.0|\n",
      "|    19.0|\n",
      "+--------+\n",
      "only showing top 20 rows\n",
      "\n"
     ]
    }
   ],
   "source": [
    "dfx = x.arrays_to_dataframe(np.linspace(0,30,31),'integers')\n",
    "print(dfx.count())\n",
    "dfx.show()\n",
    "\n",
    "# [StructField(str,StringType,true)]\n",
    "# ['str']"
   ]
  },
  {
   "cell_type": "markdown",
   "metadata": {},
   "source": [
    "#### with 1 array, no names"
   ]
  },
  {
   "cell_type": "code",
   "execution_count": 92,
   "metadata": {},
   "outputs": [
    {
     "name": "stdout",
     "output_type": "stream",
     "text": [
      "Levels:\n",
      "list str\n",
      "[['qvfdlpks', 'vpyviyux', 'ypqyinsl', 'rigvlcog', 'qngoiobg', 'zurnglnj', 'hsuemdkh', 'vlfalaxs', 'hsmjolqj', 'uhvkberg', 'ladwcapa', 'qrbkjsql']]\n",
      "check:\n",
      "[['qvfdlpks', 'vpyviyux', 'ypqyinsl', 'rigvlcog', 'qngoiobg', 'zurnglnj', 'hsuemdkh', 'vlfalaxs', 'hsmjolqj', 'uhvkberg', 'ladwcapa', 'qrbkjsql']] 1\n",
      "['str']\n",
      "12\n",
      "+--------+\n",
      "|     str|\n",
      "+--------+\n",
      "|qvfdlpks|\n",
      "|vpyviyux|\n",
      "|ypqyinsl|\n",
      "|rigvlcog|\n",
      "|qngoiobg|\n",
      "|zurnglnj|\n",
      "|hsuemdkh|\n",
      "|vlfalaxs|\n",
      "|hsmjolqj|\n",
      "|uhvkberg|\n",
      "|ladwcapa|\n",
      "|qrbkjsql|\n",
      "+--------+\n",
      "\n"
     ]
    }
   ],
   "source": [
    "dfx = x.arrays_to_dataframe(mystr)\n",
    "print(dfx.count())\n",
    "dfx.show()\n",
    "\n",
    "# [StructField(str,StringType,true)]\n",
    "# ['str']"
   ]
  },
  {
   "cell_type": "markdown",
   "metadata": {},
   "source": [
    "#### with 3 arrays, no names"
   ]
  },
  {
   "cell_type": "code",
   "execution_count": 93,
   "metadata": {},
   "outputs": [
    {
     "name": "stdout",
     "output_type": "stream",
     "text": [
      "Levels:\n",
      "list list\n",
      "[['qvfdlpks', 'vpyviyux', 'ypqyinsl', 'rigvlcog', 'qngoiobg', 'zurnglnj', 'hsuemdkh', 'vlfalaxs', 'hsmjolqj', 'uhvkberg', 'ladwcapa', 'qrbkjsql'], array([3, 1, 3, 1, 0, 3, 4, 1, 2, 1, 0, 3]), array([10.03311284, 10.03815753, 10.04005895, 10.09301454, 10.0645929 ,\n",
      "       10.04592987, 10.02605554, 10.0741538 , 10.00008683, 10.04075202,\n",
      "       10.03649303, 10.06943678])]\n",
      "check:\n",
      "[['qvfdlpks', 'vpyviyux', 'ypqyinsl', 'rigvlcog', 'qngoiobg', 'zurnglnj', 'hsuemdkh', 'vlfalaxs', 'hsmjolqj', 'uhvkberg', 'ladwcapa', 'qrbkjsql'], array([3, 1, 3, 1, 0, 3, 4, 1, 2, 1, 0, 3]), array([10.03311284, 10.03815753, 10.04005895, 10.09301454, 10.0645929 ,\n",
      "       10.04592987, 10.02605554, 10.0741538 , 10.00008683, 10.04075202,\n",
      "       10.03649303, 10.06943678])] 3\n",
      "['str', 'int32', 'float64']\n",
      "<bound method DataFrame.count of DataFrame[str: string, int32: bigint, float64: double]>\n",
      "+--------+-----+------------------+\n",
      "|     str|int32|           float64|\n",
      "+--------+-----+------------------+\n",
      "|qvfdlpks|    3|10.033112836163543|\n",
      "|vpyviyux|    1|10.038157530035122|\n",
      "|ypqyinsl|    3|10.040058954249197|\n",
      "|rigvlcog|    1|10.093014535823126|\n",
      "|qngoiobg|    0|10.064592903919403|\n",
      "|zurnglnj|    3|10.045929866844363|\n",
      "|hsuemdkh|    4|10.026055540306302|\n",
      "|vlfalaxs|    1| 10.07415380380531|\n",
      "|hsmjolqj|    2| 10.00008683187471|\n",
      "|uhvkberg|    1| 10.04075202015893|\n",
      "|ladwcapa|    0|10.036493033207824|\n",
      "|qrbkjsql|    3|10.069436779293813|\n",
      "+--------+-----+------------------+\n",
      "\n"
     ]
    }
   ],
   "source": [
    "dfx = x.arrays_to_dataframe([mystr,myint,mydoub])\n",
    "print(dfx.count)\n",
    "dfx.show()\n",
    "\n",
    "# [StructField(str,StringType,true)]\n",
    "# ['str']"
   ]
  },
  {
   "cell_type": "code",
   "execution_count": null,
   "metadata": {
    "collapsed": true
   },
   "outputs": [],
   "source": []
  }
 ],
 "metadata": {
  "kernelspec": {
   "display_name": "Python 3",
   "language": "python",
   "name": "python3"
  },
  "language_info": {
   "codemirror_mode": {
    "name": "ipython",
    "version": 3
   },
   "file_extension": ".py",
   "mimetype": "text/x-python",
   "name": "python",
   "nbconvert_exporter": "python",
   "pygments_lexer": "ipython3",
   "version": "3.6.1"
  }
 },
 "nbformat": 4,
 "nbformat_minor": 2
}
