{
 "cells": [
  {
   "cell_type": "code",
   "execution_count": 1,
   "metadata": {
    "collapsed": true
   },
   "outputs": [],
   "source": [
    "# My Standard Spark Session!\n",
    "\n",
    "# Python libraries:\n",
    "import os\n",
    "import sys\n",
    "import re\n",
    "from dateutil import parser\n",
    "# import datetime\n",
    "from datetime import datetime\n",
    "from datetime import date\n",
    "import builtins\n",
    "import json\n",
    "import functools\n",
    "import operator\n",
    "from itertools import product\n",
    "\n",
    "# Numpy & Pandas!\n",
    "import numpy as np\n",
    "import pandas as pd\n",
    "pd.options.display.float_format = '{:20,.2f}'.format\n",
    "pd.options.display.max_columns = None\n",
    "\n",
    "# Spark!\n",
    "from pyspark import SparkContext\n",
    "from pyspark.sql.functions import *\n",
    "from pyspark.sql.types import *\n",
    "from pyspark.sql.window import *\n",
    "from pyspark.sql import SparkSession, Row\n",
    "\n",
    "\n",
    "spark = SparkSession.builder.appName(\"myapp\").getOrCreate()\n",
    "\n",
    "#     spark = SparkSession.builder.master(\"yarn\")\\\n",
    "#     .config(\"spark.executor.instances\", \"32\")\\\n",
    "#     .config(\"spark.executor.cores\", \"4\")\\\n",
    "#     .config(\"spark.executor.memory\", \"4G\")\\\n",
    "#     .config(\"spark.driver.memory\", \"4G\")\\\n",
    "#     .config(\"spark.executor.memoryOverhead\",\"4G\")\\\n",
    "#     .config(\"spark.yarn.queue\",\"Medium\")\\\n",
    "#     .appName(\"myapp\")\\\n",
    "#     .getOrCreate()\n",
    "\n",
    "sc = spark.sparkContext\n",
    "spark.conf.set(\"spark.sql.sources.partitionColumnTypeInference.enabled\", \"false\")\n",
    "spark.conf.set(\"spark.debug.maxToStringFields\",\"true\")"
   ]
  },
  {
   "cell_type": "markdown",
   "metadata": {},
   "source": [
    "## DataFrameBuild Class:\n",
    "DFB = DataFrameBuild(ctx.spark)"
   ]
  },
  {
   "cell_type": "code",
   "execution_count": 2,
   "metadata": {},
   "outputs": [
    {
     "name": "stdout",
     "output_type": "stream",
     "text": [
      "<pyspark.sql.session.SparkSession object at 0x00000222E91D86A0>\n"
     ]
    }
   ],
   "source": [
    "# mylib:\n",
    "my_library = os.path.expanduser('~/.myconfigs')\n",
    "my_spark = os.path.expanduser('~/spark2_dfanalysis')\n",
    "sys.path.append(my_library)\n",
    "sys.path.append(my_spark)\n",
    "\n",
    "from shared.app_context import *\n",
    "\n",
    "ctx = ApplicationContext(\"Dev-Job\")\n",
    "print(ctx.spark)\n",
    "\n",
    "from builder.DataFrameBuild import *\n",
    "\n",
    "DFB = DataFrameBuild(ctx.spark)"
   ]
  },
  {
   "cell_type": "markdown",
   "metadata": {},
   "source": [
    "### Construct some arrays. Put them into a dataframe."
   ]
  },
  {
   "cell_type": "code",
   "execution_count": 3,
   "metadata": {},
   "outputs": [
    {
     "name": "stdout",
     "output_type": "stream",
     "text": [
      "12 ['cfoibebi', 'chfdvbyb', 'znilxbnh', 'rqmmayra', 'bwtittnc', 'bnsdpkny', 'kpbmgcrb', 'ielgmkxe', 'lxvpklpk', 'ajdyjcfs', 'bbjdsopd', 'zjxsrhey']\n",
      "12 [1 1 0 3 1 1 0 3 2 0 2 2]\n",
      "12 [10.00817341 10.06123776 10.05255773 10.04497975 10.05859685 10.07159241\n",
      " 10.09669543 10.00859478 10.04120524 10.03277997 10.08164395 10.03410269]\n"
     ]
    }
   ],
   "source": [
    "mystr = DFB.build_array(\"string\",num=12,width=8) \n",
    "myint = DFB.build_array(\"integer\",num=12,nrange=(0,4))    # inclusive on range\n",
    "mydoub = DFB.build_array(\"double\",num=12,nrange=(10,10.1))\n",
    "\n",
    "print(len(mystr),mystr)\n",
    "print(len(myint),myint)\n",
    "print(len(mydoub),mydoub)"
   ]
  },
  {
   "cell_type": "code",
   "execution_count": 4,
   "metadata": {
    "collapsed": true
   },
   "outputs": [],
   "source": [
    "df1 = DFB.arrays_to_dataframe([mystr,myint,mydoub,],['strings','integers','doubles'])"
   ]
  },
  {
   "cell_type": "code",
   "execution_count": 5,
   "metadata": {},
   "outputs": [
    {
     "name": "stdout",
     "output_type": "stream",
     "text": [
      "+--------+--------+------------------+\n",
      "| strings|integers|           doubles|\n",
      "+--------+--------+------------------+\n",
      "|cfoibebi|       1|10.008173408053299|\n",
      "|chfdvbyb|       1|10.061237755949197|\n",
      "|znilxbnh|       0|10.052557727833053|\n",
      "|rqmmayra|       3|10.044979748677436|\n",
      "|bwtittnc|       1|10.058596847168099|\n",
      "+--------+--------+------------------+\n",
      "only showing top 5 rows\n",
      "\n"
     ]
    }
   ],
   "source": [
    "df1.show(5)"
   ]
  },
  {
   "cell_type": "markdown",
   "metadata": {},
   "source": [
    "### Do it again. Put arrays or lists into a dataframe."
   ]
  },
  {
   "cell_type": "code",
   "execution_count": 6,
   "metadata": {
    "collapsed": true
   },
   "outputs": [],
   "source": [
    "num = 500\n",
    "df4 = DFB.arrays_to_dataframe(\n",
    "    [DFB.build_array(\"string\",num=num,width=8),\n",
    "     DFB.build_array(\"integer\",num=num,nrange=(1,4)),\n",
    "     DFB.build_array(\"integer\",num=num,nrange=(1,12)),\n",
    "     DFB.build_array(\"double\",num=num,nrange=(0.0,10000))],\n",
    "    ['passwords','quarter','month','price'])"
   ]
  },
  {
   "cell_type": "code",
   "execution_count": 7,
   "metadata": {},
   "outputs": [
    {
     "data": {
      "text/html": [
       "<div>\n",
       "<style scoped>\n",
       "    .dataframe tbody tr th:only-of-type {\n",
       "        vertical-align: middle;\n",
       "    }\n",
       "\n",
       "    .dataframe tbody tr th {\n",
       "        vertical-align: top;\n",
       "    }\n",
       "\n",
       "    .dataframe thead th {\n",
       "        text-align: right;\n",
       "    }\n",
       "</style>\n",
       "<table border=\"1\" class=\"dataframe\">\n",
       "  <thead>\n",
       "    <tr style=\"text-align: right;\">\n",
       "      <th></th>\n",
       "      <th>passwords</th>\n",
       "      <th>quarter</th>\n",
       "      <th>month</th>\n",
       "      <th>price</th>\n",
       "    </tr>\n",
       "  </thead>\n",
       "  <tbody>\n",
       "    <tr>\n",
       "      <th>0</th>\n",
       "      <td>jicyulnb</td>\n",
       "      <td>1</td>\n",
       "      <td>12</td>\n",
       "      <td>8,559.12</td>\n",
       "    </tr>\n",
       "    <tr>\n",
       "      <th>1</th>\n",
       "      <td>bkmmtofn</td>\n",
       "      <td>1</td>\n",
       "      <td>7</td>\n",
       "      <td>1,392.53</td>\n",
       "    </tr>\n",
       "    <tr>\n",
       "      <th>2</th>\n",
       "      <td>gxiqnuxl</td>\n",
       "      <td>2</td>\n",
       "      <td>9</td>\n",
       "      <td>5,729.57</td>\n",
       "    </tr>\n",
       "    <tr>\n",
       "      <th>3</th>\n",
       "      <td>mpxvisme</td>\n",
       "      <td>1</td>\n",
       "      <td>10</td>\n",
       "      <td>6,368.27</td>\n",
       "    </tr>\n",
       "    <tr>\n",
       "      <th>4</th>\n",
       "      <td>vgpafomt</td>\n",
       "      <td>2</td>\n",
       "      <td>3</td>\n",
       "      <td>2,779.55</td>\n",
       "    </tr>\n",
       "    <tr>\n",
       "      <th>5</th>\n",
       "      <td>znzylnzt</td>\n",
       "      <td>1</td>\n",
       "      <td>7</td>\n",
       "      <td>1,837.04</td>\n",
       "    </tr>\n",
       "    <tr>\n",
       "      <th>6</th>\n",
       "      <td>zjvigovw</td>\n",
       "      <td>1</td>\n",
       "      <td>6</td>\n",
       "      <td>9,486.31</td>\n",
       "    </tr>\n",
       "    <tr>\n",
       "      <th>7</th>\n",
       "      <td>faokwsbz</td>\n",
       "      <td>2</td>\n",
       "      <td>6</td>\n",
       "      <td>5,604.54</td>\n",
       "    </tr>\n",
       "    <tr>\n",
       "      <th>8</th>\n",
       "      <td>johcdjco</td>\n",
       "      <td>3</td>\n",
       "      <td>8</td>\n",
       "      <td>1,887.84</td>\n",
       "    </tr>\n",
       "    <tr>\n",
       "      <th>9</th>\n",
       "      <td>sjiioevs</td>\n",
       "      <td>3</td>\n",
       "      <td>10</td>\n",
       "      <td>8,141.57</td>\n",
       "    </tr>\n",
       "  </tbody>\n",
       "</table>\n",
       "</div>"
      ],
      "text/plain": [
       "  passwords  quarter  month                price\n",
       "0  jicyulnb        1     12             8,559.12\n",
       "1  bkmmtofn        1      7             1,392.53\n",
       "2  gxiqnuxl        2      9             5,729.57\n",
       "3  mpxvisme        1     10             6,368.27\n",
       "4  vgpafomt        2      3             2,779.55\n",
       "5  znzylnzt        1      7             1,837.04\n",
       "6  zjvigovw        1      6             9,486.31\n",
       "7  faokwsbz        2      6             5,604.54\n",
       "8  johcdjco        3      8             1,887.84\n",
       "9  sjiioevs        3     10             8,141.57"
      ]
     },
     "execution_count": 7,
     "metadata": {},
     "output_type": "execute_result"
    }
   ],
   "source": [
    "df4.limit(10).toPandas()"
   ]
  },
  {
   "cell_type": "code",
   "execution_count": null,
   "metadata": {
    "collapsed": true
   },
   "outputs": [],
   "source": []
  },
  {
   "cell_type": "code",
   "execution_count": null,
   "metadata": {
    "collapsed": true
   },
   "outputs": [],
   "source": []
  }
 ],
 "metadata": {
  "kernelspec": {
   "display_name": "Python 3",
   "language": "python",
   "name": "python3"
  },
  "language_info": {
   "codemirror_mode": {
    "name": "ipython",
    "version": 3
   },
   "file_extension": ".py",
   "mimetype": "text/x-python",
   "name": "python",
   "nbconvert_exporter": "python",
   "pygments_lexer": "ipython3",
   "version": "3.6.1"
  }
 },
 "nbformat": 4,
 "nbformat_minor": 2
}
